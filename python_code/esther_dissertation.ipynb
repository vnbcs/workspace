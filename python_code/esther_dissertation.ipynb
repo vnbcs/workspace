{
 "cells": [
  {
   "cell_type": "code",
   "execution_count": 1,
   "id": "93eff46a-2f4b-4bbe-9302-98978bf23377",
   "metadata": {},
   "outputs": [],
   "source": [
    "import numpy as np\n",
    "import pandas as pd\n",
    "import os"
   ]
  },
  {
   "cell_type": "code",
   "execution_count": 2,
   "id": "f19ea55a-6409-4f46-a802-d994129bbe28",
   "metadata": {},
   "outputs": [
    {
     "name": "stdout",
     "output_type": "stream",
     "text": [
      "Pretty printing has been turned OFF\n"
     ]
    }
   ],
   "source": [
    "%pprint"
   ]
  },
  {
   "cell_type": "code",
   "execution_count": 3,
   "id": "a5adeb3c-ed10-4e54-b688-d41ef3037e7f",
   "metadata": {},
   "outputs": [],
   "source": [
    "fold = \"../../esther dissertation\""
   ]
  },
  {
   "cell_type": "code",
   "execution_count": 4,
   "id": "5a7b8602-2af0-45b6-8660-c05bb6696533",
   "metadata": {},
   "outputs": [
    {
     "data": {
      "text/plain": [
       "['DissertationProposal_methods_v3.docx', 'rudolphhammen.pdf', 'StressShell (1).csv', 'Stress_Episodic_Coding.doc']"
      ]
     },
     "execution_count": 4,
     "metadata": {},
     "output_type": "execute_result"
    }
   ],
   "source": [
    "os.listdir(fold)"
   ]
  },
  {
   "cell_type": "code",
   "execution_count": 5,
   "id": "5ad85c8a-b5de-48f1-bf34-e05fff592d22",
   "metadata": {},
   "outputs": [],
   "source": [
    "stress = pd.read_csv(fold+\"/StressShell (1).csv\")"
   ]
  },
  {
   "cell_type": "code",
   "execution_count": 6,
   "id": "0ff628b0-b780-4727-9e62-10522b680bbf",
   "metadata": {},
   "outputs": [
    {
     "data": {
      "text/html": [
       "<div>\n",
       "<style scoped>\n",
       "    .dataframe tbody tr th:only-of-type {\n",
       "        vertical-align: middle;\n",
       "    }\n",
       "\n",
       "    .dataframe tbody tr th {\n",
       "        vertical-align: top;\n",
       "    }\n",
       "\n",
       "    .dataframe thead th {\n",
       "        text-align: right;\n",
       "    }\n",
       "</style>\n",
       "<table border=\"1\" class=\"dataframe\">\n",
       "  <thead>\n",
       "    <tr style=\"text-align: right;\">\n",
       "      <th></th>\n",
       "      <th>Participant</th>\n",
       "      <th>C_Acad_Sev</th>\n",
       "      <th>C_Beh_Sev</th>\n",
       "      <th>C_Peer_Sev</th>\n",
       "      <th>C_PC_Sev</th>\n",
       "      <th>C_Mar_Sev</th>\n",
       "      <th>C_House_Sev</th>\n",
       "      <th>C_Rom_Sev</th>\n",
       "      <th>C_HealSelf_Sev</th>\n",
       "      <th>C_HealOth_Sev</th>\n",
       "      <th>...</th>\n",
       "      <th>C_lifetime_E4</th>\n",
       "      <th>C_E4_lifetimeAge_6</th>\n",
       "      <th>C_E4_LTcateg_6</th>\n",
       "      <th>C_E4_LTcontent_6</th>\n",
       "      <th>C_E4_LT_Conflict_6</th>\n",
       "      <th>C_E4_LTIsubjmpact_6</th>\n",
       "      <th>C_E4_LTIndependence_6</th>\n",
       "      <th>C_E4_LTobjective_rating_of_impact</th>\n",
       "      <th>C_E4_LTrejection</th>\n",
       "      <th>C_E4_age</th>\n",
       "    </tr>\n",
       "  </thead>\n",
       "  <tbody>\n",
       "    <tr>\n",
       "      <th>0</th>\n",
       "      <td>1</td>\n",
       "      <td>2.5</td>\n",
       "      <td>1.0</td>\n",
       "      <td>3.0</td>\n",
       "      <td>3.5</td>\n",
       "      <td>4.0</td>\n",
       "      <td>2.0</td>\n",
       "      <td>2.0</td>\n",
       "      <td>2.0</td>\n",
       "      <td>2.0</td>\n",
       "      <td>...</td>\n",
       "      <td></td>\n",
       "      <td></td>\n",
       "      <td></td>\n",
       "      <td></td>\n",
       "      <td></td>\n",
       "      <td></td>\n",
       "      <td></td>\n",
       "      <td></td>\n",
       "      <td></td>\n",
       "      <td></td>\n",
       "    </tr>\n",
       "    <tr>\n",
       "      <th>1</th>\n",
       "      <td>2</td>\n",
       "      <td>3.5</td>\n",
       "      <td>1.0</td>\n",
       "      <td>3.0</td>\n",
       "      <td>4.0</td>\n",
       "      <td>3.5</td>\n",
       "      <td>3.0</td>\n",
       "      <td>2.0</td>\n",
       "      <td>3.5</td>\n",
       "      <td>1.0</td>\n",
       "      <td>...</td>\n",
       "      <td></td>\n",
       "      <td></td>\n",
       "      <td></td>\n",
       "      <td></td>\n",
       "      <td></td>\n",
       "      <td></td>\n",
       "      <td></td>\n",
       "      <td></td>\n",
       "      <td></td>\n",
       "      <td></td>\n",
       "    </tr>\n",
       "    <tr>\n",
       "      <th>2</th>\n",
       "      <td>3</td>\n",
       "      <td>2.0</td>\n",
       "      <td>1.0</td>\n",
       "      <td>2.0</td>\n",
       "      <td>3.0</td>\n",
       "      <td>2.5</td>\n",
       "      <td>2.5</td>\n",
       "      <td>1.5</td>\n",
       "      <td>1.0</td>\n",
       "      <td>2.0</td>\n",
       "      <td>...</td>\n",
       "      <td></td>\n",
       "      <td></td>\n",
       "      <td></td>\n",
       "      <td></td>\n",
       "      <td></td>\n",
       "      <td></td>\n",
       "      <td></td>\n",
       "      <td></td>\n",
       "      <td></td>\n",
       "      <td></td>\n",
       "    </tr>\n",
       "    <tr>\n",
       "      <th>3</th>\n",
       "      <td>4</td>\n",
       "      <td>1.5</td>\n",
       "      <td>1.0</td>\n",
       "      <td>3.5</td>\n",
       "      <td>3.5</td>\n",
       "      <td>4.0</td>\n",
       "      <td>1.0</td>\n",
       "      <td>1.0</td>\n",
       "      <td>1.0</td>\n",
       "      <td>2.0</td>\n",
       "      <td>...</td>\n",
       "      <td></td>\n",
       "      <td></td>\n",
       "      <td></td>\n",
       "      <td></td>\n",
       "      <td></td>\n",
       "      <td></td>\n",
       "      <td></td>\n",
       "      <td></td>\n",
       "      <td></td>\n",
       "      <td></td>\n",
       "    </tr>\n",
       "    <tr>\n",
       "      <th>4</th>\n",
       "      <td>5</td>\n",
       "      <td>1.5</td>\n",
       "      <td>1.0</td>\n",
       "      <td>2.5</td>\n",
       "      <td>2.0</td>\n",
       "      <td>1.5</td>\n",
       "      <td>1.0</td>\n",
       "      <td>1.0</td>\n",
       "      <td>1.0</td>\n",
       "      <td>2.5</td>\n",
       "      <td>...</td>\n",
       "      <td></td>\n",
       "      <td></td>\n",
       "      <td></td>\n",
       "      <td></td>\n",
       "      <td></td>\n",
       "      <td></td>\n",
       "      <td></td>\n",
       "      <td></td>\n",
       "      <td></td>\n",
       "      <td></td>\n",
       "    </tr>\n",
       "  </tbody>\n",
       "</table>\n",
       "<p>5 rows × 197 columns</p>\n",
       "</div>"
      ],
      "text/plain": [
       "   Participant  C_Acad_Sev  C_Beh_Sev  C_Peer_Sev  C_PC_Sev  C_Mar_Sev  \\\n",
       "0            1         2.5        1.0         3.0       3.5        4.0   \n",
       "1            2         3.5        1.0         3.0       4.0        3.5   \n",
       "2            3         2.0        1.0         2.0       3.0        2.5   \n",
       "3            4         1.5        1.0         3.5       3.5        4.0   \n",
       "4            5         1.5        1.0         2.5       2.0        1.5   \n",
       "\n",
       "   C_House_Sev  C_Rom_Sev  C_HealSelf_Sev  C_HealOth_Sev  ...  C_lifetime_E4  \\\n",
       "0          2.0        2.0             2.0            2.0  ...                  \n",
       "1          3.0        2.0             3.5            1.0  ...                  \n",
       "2          2.5        1.5             1.0            2.0  ...                  \n",
       "3          1.0        1.0             1.0            2.0  ...                  \n",
       "4          1.0        1.0             1.0            2.5  ...                  \n",
       "\n",
       "   C_E4_lifetimeAge_6  C_E4_LTcateg_6  C_E4_LTcontent_6  C_E4_LT_Conflict_6  \\\n",
       "0                                                                             \n",
       "1                                                                             \n",
       "2                                                                             \n",
       "3                                                                             \n",
       "4                                                                             \n",
       "\n",
       "  C_E4_LTIsubjmpact_6 C_E4_LTIndependence_6  \\\n",
       "0                                             \n",
       "1                                             \n",
       "2                                             \n",
       "3                                             \n",
       "4                                             \n",
       "\n",
       "   C_E4_LTobjective_rating_of_impact  C_E4_LTrejection  C_E4_age  \n",
       "0                                                                 \n",
       "1                                                                 \n",
       "2                                                                 \n",
       "3                                                                 \n",
       "4                                                                 \n",
       "\n",
       "[5 rows x 197 columns]"
      ]
     },
     "execution_count": 6,
     "metadata": {},
     "output_type": "execute_result"
    }
   ],
   "source": [
    "stress.head()"
   ]
  },
  {
   "cell_type": "code",
   "execution_count": 7,
   "id": "a2acc02e-aa37-479b-9db4-b20384f30071",
   "metadata": {},
   "outputs": [],
   "source": [
    "# first we need to fix the inconsistent column names"
   ]
  },
  {
   "cell_type": "code",
   "execution_count": 8,
   "id": "98a27e09-417b-4df5-8499-302023e3d039",
   "metadata": {},
   "outputs": [],
   "source": [
    "fixed_cols = []\n",
    "for x in stress.columns:\n",
    "    t = \"\"+x\n",
    "    if t.lower().endswith(\"subimpac\"):\n",
    "        t+=\"t\"\n",
    "    if t.endswith(\"_6\"):\n",
    "        t = t.replace(\"_6\",\"\")\n",
    "    if t.endswith(\"_T1\"):\n",
    "        t = t.replace(\"_T1\",\"\")\n",
    "    t = '_'.join([x.title() for x in t.split(\"_\")])\n",
    "    fixed_cols.append(t)"
   ]
  },
  {
   "cell_type": "code",
   "execution_count": 9,
   "id": "30f9cb3c-d350-484b-bad9-b3319637de2e",
   "metadata": {},
   "outputs": [],
   "source": [
    "stress.columns = fixed_cols"
   ]
  },
  {
   "cell_type": "code",
   "execution_count": 10,
   "id": "6e613cb8-5ed0-4acc-8069-4472bfbac3ac",
   "metadata": {},
   "outputs": [
    {
     "data": {
      "text/html": [
       "<div>\n",
       "<style scoped>\n",
       "    .dataframe tbody tr th:only-of-type {\n",
       "        vertical-align: middle;\n",
       "    }\n",
       "\n",
       "    .dataframe tbody tr th {\n",
       "        vertical-align: top;\n",
       "    }\n",
       "\n",
       "    .dataframe thead th {\n",
       "        text-align: right;\n",
       "    }\n",
       "</style>\n",
       "<table border=\"1\" class=\"dataframe\">\n",
       "  <thead>\n",
       "    <tr style=\"text-align: right;\">\n",
       "      <th></th>\n",
       "      <th>Participant</th>\n",
       "      <th>C_Acad_Sev</th>\n",
       "      <th>C_Beh_Sev</th>\n",
       "      <th>C_Peer_Sev</th>\n",
       "      <th>C_Pc_Sev</th>\n",
       "      <th>C_Mar_Sev</th>\n",
       "      <th>C_House_Sev</th>\n",
       "      <th>C_Rom_Sev</th>\n",
       "      <th>C_Healself_Sev</th>\n",
       "      <th>C_Healoth_Sev</th>\n",
       "      <th>...</th>\n",
       "      <th>C_Lifetime_E4</th>\n",
       "      <th>C_E4_Lifetimeage</th>\n",
       "      <th>C_E4_Ltcateg</th>\n",
       "      <th>C_E4_Ltcontent</th>\n",
       "      <th>C_E4_Lt_Conflict</th>\n",
       "      <th>C_E4_Ltisubjmpact</th>\n",
       "      <th>C_E4_Ltindependence</th>\n",
       "      <th>C_E4_Ltobjective_Rating_Of_Impact</th>\n",
       "      <th>C_E4_Ltrejection</th>\n",
       "      <th>C_E4_Age</th>\n",
       "    </tr>\n",
       "  </thead>\n",
       "  <tbody>\n",
       "    <tr>\n",
       "      <th>0</th>\n",
       "      <td>1</td>\n",
       "      <td>2.5</td>\n",
       "      <td>1.0</td>\n",
       "      <td>3.0</td>\n",
       "      <td>3.5</td>\n",
       "      <td>4.0</td>\n",
       "      <td>2.0</td>\n",
       "      <td>2.0</td>\n",
       "      <td>2.0</td>\n",
       "      <td>2.0</td>\n",
       "      <td>...</td>\n",
       "      <td></td>\n",
       "      <td></td>\n",
       "      <td></td>\n",
       "      <td></td>\n",
       "      <td></td>\n",
       "      <td></td>\n",
       "      <td></td>\n",
       "      <td></td>\n",
       "      <td></td>\n",
       "      <td></td>\n",
       "    </tr>\n",
       "    <tr>\n",
       "      <th>1</th>\n",
       "      <td>2</td>\n",
       "      <td>3.5</td>\n",
       "      <td>1.0</td>\n",
       "      <td>3.0</td>\n",
       "      <td>4.0</td>\n",
       "      <td>3.5</td>\n",
       "      <td>3.0</td>\n",
       "      <td>2.0</td>\n",
       "      <td>3.5</td>\n",
       "      <td>1.0</td>\n",
       "      <td>...</td>\n",
       "      <td></td>\n",
       "      <td></td>\n",
       "      <td></td>\n",
       "      <td></td>\n",
       "      <td></td>\n",
       "      <td></td>\n",
       "      <td></td>\n",
       "      <td></td>\n",
       "      <td></td>\n",
       "      <td></td>\n",
       "    </tr>\n",
       "    <tr>\n",
       "      <th>2</th>\n",
       "      <td>3</td>\n",
       "      <td>2.0</td>\n",
       "      <td>1.0</td>\n",
       "      <td>2.0</td>\n",
       "      <td>3.0</td>\n",
       "      <td>2.5</td>\n",
       "      <td>2.5</td>\n",
       "      <td>1.5</td>\n",
       "      <td>1.0</td>\n",
       "      <td>2.0</td>\n",
       "      <td>...</td>\n",
       "      <td></td>\n",
       "      <td></td>\n",
       "      <td></td>\n",
       "      <td></td>\n",
       "      <td></td>\n",
       "      <td></td>\n",
       "      <td></td>\n",
       "      <td></td>\n",
       "      <td></td>\n",
       "      <td></td>\n",
       "    </tr>\n",
       "    <tr>\n",
       "      <th>3</th>\n",
       "      <td>4</td>\n",
       "      <td>1.5</td>\n",
       "      <td>1.0</td>\n",
       "      <td>3.5</td>\n",
       "      <td>3.5</td>\n",
       "      <td>4.0</td>\n",
       "      <td>1.0</td>\n",
       "      <td>1.0</td>\n",
       "      <td>1.0</td>\n",
       "      <td>2.0</td>\n",
       "      <td>...</td>\n",
       "      <td></td>\n",
       "      <td></td>\n",
       "      <td></td>\n",
       "      <td></td>\n",
       "      <td></td>\n",
       "      <td></td>\n",
       "      <td></td>\n",
       "      <td></td>\n",
       "      <td></td>\n",
       "      <td></td>\n",
       "    </tr>\n",
       "    <tr>\n",
       "      <th>4</th>\n",
       "      <td>5</td>\n",
       "      <td>1.5</td>\n",
       "      <td>1.0</td>\n",
       "      <td>2.5</td>\n",
       "      <td>2.0</td>\n",
       "      <td>1.5</td>\n",
       "      <td>1.0</td>\n",
       "      <td>1.0</td>\n",
       "      <td>1.0</td>\n",
       "      <td>2.5</td>\n",
       "      <td>...</td>\n",
       "      <td></td>\n",
       "      <td></td>\n",
       "      <td></td>\n",
       "      <td></td>\n",
       "      <td></td>\n",
       "      <td></td>\n",
       "      <td></td>\n",
       "      <td></td>\n",
       "      <td></td>\n",
       "      <td></td>\n",
       "    </tr>\n",
       "  </tbody>\n",
       "</table>\n",
       "<p>5 rows × 197 columns</p>\n",
       "</div>"
      ],
      "text/plain": [
       "   Participant  C_Acad_Sev  C_Beh_Sev  C_Peer_Sev  C_Pc_Sev  C_Mar_Sev  \\\n",
       "0            1         2.5        1.0         3.0       3.5        4.0   \n",
       "1            2         3.5        1.0         3.0       4.0        3.5   \n",
       "2            3         2.0        1.0         2.0       3.0        2.5   \n",
       "3            4         1.5        1.0         3.5       3.5        4.0   \n",
       "4            5         1.5        1.0         2.5       2.0        1.5   \n",
       "\n",
       "   C_House_Sev  C_Rom_Sev  C_Healself_Sev  C_Healoth_Sev  ...  C_Lifetime_E4  \\\n",
       "0          2.0        2.0             2.0            2.0  ...                  \n",
       "1          3.0        2.0             3.5            1.0  ...                  \n",
       "2          2.5        1.5             1.0            2.0  ...                  \n",
       "3          1.0        1.0             1.0            2.0  ...                  \n",
       "4          1.0        1.0             1.0            2.5  ...                  \n",
       "\n",
       "   C_E4_Lifetimeage  C_E4_Ltcateg  C_E4_Ltcontent  C_E4_Lt_Conflict  \\\n",
       "0                                                                     \n",
       "1                                                                     \n",
       "2                                                                     \n",
       "3                                                                     \n",
       "4                                                                     \n",
       "\n",
       "  C_E4_Ltisubjmpact C_E4_Ltindependence  C_E4_Ltobjective_Rating_Of_Impact  \\\n",
       "0                                                                            \n",
       "1                                                                            \n",
       "2                                                                            \n",
       "3                                                                            \n",
       "4                                                                            \n",
       "\n",
       "   C_E4_Ltrejection  C_E4_Age  \n",
       "0                              \n",
       "1                              \n",
       "2                              \n",
       "3                              \n",
       "4                              \n",
       "\n",
       "[5 rows x 197 columns]"
      ]
     },
     "execution_count": 10,
     "metadata": {},
     "output_type": "execute_result"
    }
   ],
   "source": [
    "stress.head()"
   ]
  },
  {
   "cell_type": "code",
   "execution_count": 11,
   "id": "8a8489a0-a6fe-4f08-8104-63d00d526d06",
   "metadata": {},
   "outputs": [
    {
     "data": {
      "text/plain": [
       "['C_Acad_Sev', 'C_Beh_Sev', 'C_Peer_Sev', 'C_Pc_Sev', 'C_Mar_Sev', 'C_House_Sev', 'C_Rom_Sev', 'C_Healself_Sev', 'C_Healoth_Sev', 'C_Fin_Sev', 'C_Legal_Sev', 'C_Viol_Sev', 'C_Disc_Sev']"
      ]
     },
     "execution_count": 11,
     "metadata": {},
     "output_type": "execute_result"
    }
   ],
   "source": [
    "[x for x in stress.columns if \"Sev\" in x]"
   ]
  },
  {
   "cell_type": "code",
   "execution_count": 12,
   "id": "0af25181-b163-4282-9d6d-14828045ec47",
   "metadata": {},
   "outputs": [],
   "source": [
    "# each E = an independent episode, flatten by episode"
   ]
  },
  {
   "cell_type": "code",
   "execution_count": 13,
   "id": "3f0fbe4b-07d1-4138-8495-31c550aba1c8",
   "metadata": {},
   "outputs": [],
   "source": [
    "col_names = [\"Start\",\"Subimpact\",\"Category\",\"Content\",\"Conflict\",\"Impact\",\"Independence\",\"Rejection\"]"
   ]
  },
  {
   "cell_type": "code",
   "execution_count": 14,
   "id": "cd04ccb1-2006-45b8-ace6-86fa314e0cd5",
   "metadata": {},
   "outputs": [],
   "source": [
    "col_name_lists = []\n",
    "for x in range(2,19):\n",
    "    temp = [\"Participant\"]\n",
    "    for name in col_names:\n",
    "        temp.append(\"C_E\"+str(x)+\"_\"+name)\n",
    "    col_name_lists.append(temp)"
   ]
  },
  {
   "cell_type": "code",
   "execution_count": 15,
   "id": "54de4884-8b5b-48ef-b420-39c46a0577cf",
   "metadata": {},
   "outputs": [],
   "source": [
    "# check that i caught them all\n",
    "for l in col_name_lists:\n",
    "    for x in l:\n",
    "        if x not in stress.columns:\n",
    "            print(x)"
   ]
  },
  {
   "cell_type": "code",
   "execution_count": 16,
   "id": "cbd0a8bf-a15a-4fd7-8948-21dd4ab835d2",
   "metadata": {},
   "outputs": [],
   "source": [
    "stress_df_cleaned = pd.DataFrame()"
   ]
  },
  {
   "cell_type": "code",
   "execution_count": 17,
   "id": "35b0f14d-f5c3-45e1-b97e-684d9f874093",
   "metadata": {},
   "outputs": [],
   "source": [
    "for l in col_name_lists:\n",
    "    event = [x for x in l[-1].split(\"_\") if \"E\" in x][0]\n",
    "    for row in stress.loc[:,l].Participant:\n",
    "        vals = stress.loc[:,l].loc[lambda df: df['Participant'] == row]\n",
    "        vals.insert(1, \"Event\", event)\n",
    "        vals.columns = [\"Participant\",\"Event\"]+col_names\n",
    "        stress_df_cleaned = pd.concat([stress_df_cleaned, vals])"
   ]
  },
  {
   "cell_type": "code",
   "execution_count": 18,
   "id": "f02b8cad-47d7-4bf3-a4e1-b4a63ff77d78",
   "metadata": {},
   "outputs": [
    {
     "data": {
      "text/html": [
       "<div>\n",
       "<style scoped>\n",
       "    .dataframe tbody tr th:only-of-type {\n",
       "        vertical-align: middle;\n",
       "    }\n",
       "\n",
       "    .dataframe tbody tr th {\n",
       "        vertical-align: top;\n",
       "    }\n",
       "\n",
       "    .dataframe thead th {\n",
       "        text-align: right;\n",
       "    }\n",
       "</style>\n",
       "<table border=\"1\" class=\"dataframe\">\n",
       "  <thead>\n",
       "    <tr style=\"text-align: right;\">\n",
       "      <th></th>\n",
       "      <th>Participant</th>\n",
       "      <th>Event</th>\n",
       "      <th>Start</th>\n",
       "      <th>Subimpact</th>\n",
       "      <th>Category</th>\n",
       "      <th>Content</th>\n",
       "      <th>Conflict</th>\n",
       "      <th>Impact</th>\n",
       "      <th>Independence</th>\n",
       "      <th>Rejection</th>\n",
       "    </tr>\n",
       "  </thead>\n",
       "  <tbody>\n",
       "    <tr>\n",
       "      <th>0</th>\n",
       "      <td>1</td>\n",
       "      <td>E2</td>\n",
       "      <td></td>\n",
       "      <td>2</td>\n",
       "      <td>3</td>\n",
       "      <td>5</td>\n",
       "      <td>0</td>\n",
       "      <td>2.0</td>\n",
       "      <td>5</td>\n",
       "      <td>0</td>\n",
       "    </tr>\n",
       "    <tr>\n",
       "      <th>1</th>\n",
       "      <td>2</td>\n",
       "      <td>E2</td>\n",
       "      <td>12</td>\n",
       "      <td>5</td>\n",
       "      <td>2</td>\n",
       "      <td>6</td>\n",
       "      <td>0</td>\n",
       "      <td>3.0</td>\n",
       "      <td>1</td>\n",
       "      <td>1</td>\n",
       "    </tr>\n",
       "    <tr>\n",
       "      <th>2</th>\n",
       "      <td>3</td>\n",
       "      <td>E2</td>\n",
       "      <td>7</td>\n",
       "      <td>2</td>\n",
       "      <td>5</td>\n",
       "      <td>15</td>\n",
       "      <td>0</td>\n",
       "      <td>2.0</td>\n",
       "      <td>5</td>\n",
       "      <td>0</td>\n",
       "    </tr>\n",
       "    <tr>\n",
       "      <th>3</th>\n",
       "      <td>4</td>\n",
       "      <td>E2</td>\n",
       "      <td>52</td>\n",
       "      <td>2</td>\n",
       "      <td>3</td>\n",
       "      <td>5</td>\n",
       "      <td>3</td>\n",
       "      <td>2.5</td>\n",
       "      <td>4</td>\n",
       "      <td>0</td>\n",
       "    </tr>\n",
       "    <tr>\n",
       "      <th>4</th>\n",
       "      <td>5</td>\n",
       "      <td>E2</td>\n",
       "      <td>16</td>\n",
       "      <td>2</td>\n",
       "      <td>5</td>\n",
       "      <td>6</td>\n",
       "      <td>0</td>\n",
       "      <td>3.0</td>\n",
       "      <td>1</td>\n",
       "      <td>0</td>\n",
       "    </tr>\n",
       "  </tbody>\n",
       "</table>\n",
       "</div>"
      ],
      "text/plain": [
       "   Participant Event Start Subimpact Category Content Conflict Impact  \\\n",
       "0            1    E2               2        3       5        0    2.0   \n",
       "1            2    E2    12         5        2       6        0    3.0   \n",
       "2            3    E2     7         2        5      15        0    2.0   \n",
       "3            4    E2    52         2        3       5        3    2.5   \n",
       "4            5    E2    16         2        5       6        0    3.0   \n",
       "\n",
       "  Independence Rejection  \n",
       "0            5         0  \n",
       "1            1         1  \n",
       "2            5         0  \n",
       "3            4         0  \n",
       "4            1         0  "
      ]
     },
     "execution_count": 18,
     "metadata": {},
     "output_type": "execute_result"
    }
   ],
   "source": [
    "stress_df_cleaned.head()"
   ]
  },
  {
   "cell_type": "code",
   "execution_count": 19,
   "id": "271b60b2-63e2-4474-acec-e2b5a8e903a6",
   "metadata": {},
   "outputs": [
    {
     "data": {
      "text/html": [
       "<div>\n",
       "<style scoped>\n",
       "    .dataframe tbody tr th:only-of-type {\n",
       "        vertical-align: middle;\n",
       "    }\n",
       "\n",
       "    .dataframe tbody tr th {\n",
       "        vertical-align: top;\n",
       "    }\n",
       "\n",
       "    .dataframe thead th {\n",
       "        text-align: right;\n",
       "    }\n",
       "</style>\n",
       "<table border=\"1\" class=\"dataframe\">\n",
       "  <thead>\n",
       "    <tr style=\"text-align: right;\">\n",
       "      <th></th>\n",
       "      <th>Participant</th>\n",
       "    </tr>\n",
       "  </thead>\n",
       "  <tbody>\n",
       "    <tr>\n",
       "      <th>count</th>\n",
       "      <td>816.000000</td>\n",
       "    </tr>\n",
       "    <tr>\n",
       "      <th>mean</th>\n",
       "      <td>24.500000</td>\n",
       "    </tr>\n",
       "    <tr>\n",
       "      <th>std</th>\n",
       "      <td>13.861896</td>\n",
       "    </tr>\n",
       "    <tr>\n",
       "      <th>min</th>\n",
       "      <td>1.000000</td>\n",
       "    </tr>\n",
       "    <tr>\n",
       "      <th>25%</th>\n",
       "      <td>12.750000</td>\n",
       "    </tr>\n",
       "    <tr>\n",
       "      <th>50%</th>\n",
       "      <td>24.500000</td>\n",
       "    </tr>\n",
       "    <tr>\n",
       "      <th>75%</th>\n",
       "      <td>36.250000</td>\n",
       "    </tr>\n",
       "    <tr>\n",
       "      <th>max</th>\n",
       "      <td>48.000000</td>\n",
       "    </tr>\n",
       "  </tbody>\n",
       "</table>\n",
       "</div>"
      ],
      "text/plain": [
       "       Participant\n",
       "count   816.000000\n",
       "mean     24.500000\n",
       "std      13.861896\n",
       "min       1.000000\n",
       "25%      12.750000\n",
       "50%      24.500000\n",
       "75%      36.250000\n",
       "max      48.000000"
      ]
     },
     "execution_count": 19,
     "metadata": {},
     "output_type": "execute_result"
    }
   ],
   "source": [
    "stress_df_cleaned.describe()"
   ]
  },
  {
   "cell_type": "code",
   "execution_count": 20,
   "id": "c7caace1-52c2-408d-beb0-000580aa6d34",
   "metadata": {},
   "outputs": [],
   "source": [
    "stress_df_cleaned = stress_df_cleaned.replace(r'^\\s*$', np.nan, regex=True)"
   ]
  },
  {
   "cell_type": "code",
   "execution_count": 21,
   "id": "1eb31dfc-5c4b-439c-822a-47b271e666d4",
   "metadata": {},
   "outputs": [
    {
     "data": {
      "text/plain": [
       "816"
      ]
     },
     "execution_count": 21,
     "metadata": {},
     "output_type": "execute_result"
    }
   ],
   "source": [
    "len(stress_df_cleaned)"
   ]
  },
  {
   "cell_type": "code",
   "execution_count": 22,
   "id": "112d287b-e44f-4892-90b8-b925a5fb07d6",
   "metadata": {},
   "outputs": [
    {
     "data": {
      "text/plain": [
       "310"
      ]
     },
     "execution_count": 22,
     "metadata": {},
     "output_type": "execute_result"
    }
   ],
   "source": [
    "len(stress_df_cleaned.dropna(subset=[\"Impact\"]))"
   ]
  },
  {
   "cell_type": "code",
   "execution_count": 23,
   "id": "b52daea9-a07e-4f4b-9dd3-e406f6259abd",
   "metadata": {},
   "outputs": [],
   "source": [
    "category = {\n",
    "    1:\"Bereavement\",\n",
    "    2:\"Separation\",\n",
    "    3:\"Interpersonal problem - peer\",\n",
    "    4:\"Interpersonal problem - family\",\n",
    "    5:\"Change, move, adjustment\",\n",
    "    6:\"Illness, injury, accident - self\",\n",
    "    7:\"Illness, injury, accident - other\",\n",
    "    8:\"Failure and disappointment\",\n",
    "    9:\"Material loss\",\n",
    "    10:\"Child abuse\",\n",
    "    11:\"Start dating\",\n",
    "    12:\"Stops dating, breakup\",\n",
    "    13:\"Resumes dating\",\n",
    "    14:\"Interpersonal problem - other\",\n",
    "    15:\"Trouble with police\",\n",
    "    16:\"Victim of crime\",\n",
    "    17:\"Starts work\",\n",
    "    18:\"Quits work\",\n",
    "    19:\"Victim of natural disaster\",\n",
    "    20:\"Other event\",\n",
    "    21:\"Cross-gender platonic\",\n",
    "    22:\"Cross-gender romantic\",\n",
    "    23:\"Legal\",\n",
    "    24:\"Exposure to violence\"\n",
    "}"
   ]
  },
  {
   "cell_type": "code",
   "execution_count": 24,
   "id": "d9a40ed0-a4e1-491c-b756-dc4bdd7136d2",
   "metadata": {},
   "outputs": [],
   "source": [
    "content_specific = {\n",
    "    1:\"Parent-child dependent\",\n",
    "    2:\"Parent-child independent\",\n",
    "    3:\"Family dependent\",\n",
    "    4:\"Family independent\",\n",
    "    5:\"Peer dependent\",\n",
    "    6:\"Peer independent\",\n",
    "    7:\"School academic dependent\",\n",
    "    8:\"School academic independent\",\n",
    "    9:\"School behavior dependent\",\n",
    "    10:\"School behavior independent\",\n",
    "    11:\"Other interpersonal dependent\",\n",
    "    12:\"Other interpersonal independent\",\n",
    "    13:\"Other non-interpersonal dependent\",\n",
    "    14:\"Other non-interpersonal independent\",\n",
    "    15:\"School transition dependent\",\n",
    "    16:\"Romantic interpersonal\",\n",
    "    17:\"Also romantic interpersonal\"\n",
    "}"
   ]
  },
  {
   "cell_type": "code",
   "execution_count": 25,
   "id": "f231a33f-ab05-4aa8-9b94-46ebe8a940c5",
   "metadata": {},
   "outputs": [],
   "source": [
    "content_general = {x:content_specific[x].split()[-1] for x in content_specific.keys()}"
   ]
  },
  {
   "cell_type": "code",
   "execution_count": 26,
   "id": "d34bfef2-e56d-4e48-b022-4153ef7b3945",
   "metadata": {},
   "outputs": [
    {
     "data": {
      "text/plain": [
       "{1: 'dependent', 2: 'independent', 3: 'dependent', 4: 'independent', 5: 'dependent', 6: 'independent', 7: 'dependent', 8: 'independent', 9: 'dependent', 10: 'independent', 11: 'dependent', 12: 'independent', 13: 'dependent', 14: 'independent', 15: 'dependent', 16: 'interpersonal', 17: 'interpersonal'}"
      ]
     },
     "execution_count": 26,
     "metadata": {},
     "output_type": "execute_result"
    }
   ],
   "source": [
    "content_general"
   ]
  },
  {
   "cell_type": "code",
   "execution_count": 27,
   "id": "1869609d-6d7e-4b51-b8e6-2d65bd6d3251",
   "metadata": {},
   "outputs": [],
   "source": [
    "conflict = {\n",
    "    0:\"no conflict\",\n",
    "    1:\"parent-child\",\n",
    "    2:\"family\",\n",
    "    3:\"peer\",\n",
    "    4:\"other\",\n",
    "    5:\"cross-gender\",\n",
    "    6:\"family with other person\"\n",
    "}"
   ]
  },
  {
   "cell_type": "code",
   "execution_count": 28,
   "id": "61d57427-1afa-43da-b825-59e138336a7d",
   "metadata": {},
   "outputs": [],
   "source": [
    "stress_df_decoded = stress_df_cleaned.copy()\n",
    "stress_df_decoded = stress_df_decoded.dropna(subset=[\"Impact\"])\n",
    "stress_df_decoded[\"Conflict\"]=stress_df_decoded.Conflict.map(conflict)\n",
    "stress_df_decoded[\"Category\"]=stress_df_decoded.Category.map(category)\n",
    "stress_df_decoded[\"Content_specific\"]=stress_df_decoded.Content.map(content_specific)\n",
    "stress_df_decoded[\"Content\"]=stress_df_decoded.Content.map(content_general)\n",
    "stress_df_decoded[\"Impact\"]=stress_df_decoded.Impact.map(np.float64)"
   ]
  },
  {
   "cell_type": "code",
   "execution_count": 29,
   "id": "a730fdc7-48e9-4d34-adce-b2dd9db0c662",
   "metadata": {},
   "outputs": [],
   "source": [
    "# 1 = most independent\n",
    "# 5 = most dependent\n",
    "# make binary - scores >=3 dependent scores <3 independent\n",
    "binary_independent = {\n",
    "    1:\"independent\",\n",
    "    2:\"independent\",\n",
    "    3:\"dependent\",\n",
    "    4:\"dependent\",\n",
    "    5:\"dependent\"\n",
    "}"
   ]
  },
  {
   "cell_type": "code",
   "execution_count": 30,
   "id": "f8c8436b-1195-4cc9-afef-ea4852dba1c1",
   "metadata": {},
   "outputs": [],
   "source": [
    "stress_df_decoded[\"Independence_binary\"]=stress_df_decoded.Independence.map(binary_independent)"
   ]
  },
  {
   "cell_type": "code",
   "execution_count": 31,
   "id": "f38cbd93-f8b0-4388-ae2b-09087b3a157a",
   "metadata": {},
   "outputs": [
    {
     "data": {
      "text/html": [
       "<div>\n",
       "<style scoped>\n",
       "    .dataframe tbody tr th:only-of-type {\n",
       "        vertical-align: middle;\n",
       "    }\n",
       "\n",
       "    .dataframe tbody tr th {\n",
       "        vertical-align: top;\n",
       "    }\n",
       "\n",
       "    .dataframe thead th {\n",
       "        text-align: right;\n",
       "    }\n",
       "</style>\n",
       "<table border=\"1\" class=\"dataframe\">\n",
       "  <thead>\n",
       "    <tr style=\"text-align: right;\">\n",
       "      <th></th>\n",
       "      <th>Participant</th>\n",
       "      <th>Event</th>\n",
       "      <th>Start</th>\n",
       "      <th>Subimpact</th>\n",
       "      <th>Category</th>\n",
       "      <th>Content</th>\n",
       "      <th>Conflict</th>\n",
       "      <th>Impact</th>\n",
       "      <th>Independence</th>\n",
       "      <th>Rejection</th>\n",
       "      <th>Content_specific</th>\n",
       "      <th>Independence_binary</th>\n",
       "    </tr>\n",
       "  </thead>\n",
       "  <tbody>\n",
       "    <tr>\n",
       "      <th>0</th>\n",
       "      <td>1</td>\n",
       "      <td>E2</td>\n",
       "      <td>NaN</td>\n",
       "      <td>2</td>\n",
       "      <td>Interpersonal problem - peer</td>\n",
       "      <td>dependent</td>\n",
       "      <td>no conflict</td>\n",
       "      <td>2.0</td>\n",
       "      <td>5</td>\n",
       "      <td>0</td>\n",
       "      <td>Peer dependent</td>\n",
       "      <td>dependent</td>\n",
       "    </tr>\n",
       "    <tr>\n",
       "      <th>1</th>\n",
       "      <td>2</td>\n",
       "      <td>E2</td>\n",
       "      <td>12</td>\n",
       "      <td>5</td>\n",
       "      <td>Separation</td>\n",
       "      <td>independent</td>\n",
       "      <td>no conflict</td>\n",
       "      <td>3.0</td>\n",
       "      <td>1</td>\n",
       "      <td>1</td>\n",
       "      <td>Peer independent</td>\n",
       "      <td>independent</td>\n",
       "    </tr>\n",
       "    <tr>\n",
       "      <th>2</th>\n",
       "      <td>3</td>\n",
       "      <td>E2</td>\n",
       "      <td>7</td>\n",
       "      <td>2</td>\n",
       "      <td>Change, move, adjustment</td>\n",
       "      <td>dependent</td>\n",
       "      <td>no conflict</td>\n",
       "      <td>2.0</td>\n",
       "      <td>5</td>\n",
       "      <td>0</td>\n",
       "      <td>School transition dependent</td>\n",
       "      <td>dependent</td>\n",
       "    </tr>\n",
       "    <tr>\n",
       "      <th>3</th>\n",
       "      <td>4</td>\n",
       "      <td>E2</td>\n",
       "      <td>52</td>\n",
       "      <td>2</td>\n",
       "      <td>Interpersonal problem - peer</td>\n",
       "      <td>dependent</td>\n",
       "      <td>peer</td>\n",
       "      <td>2.5</td>\n",
       "      <td>4</td>\n",
       "      <td>0</td>\n",
       "      <td>Peer dependent</td>\n",
       "      <td>dependent</td>\n",
       "    </tr>\n",
       "    <tr>\n",
       "      <th>4</th>\n",
       "      <td>5</td>\n",
       "      <td>E2</td>\n",
       "      <td>16</td>\n",
       "      <td>2</td>\n",
       "      <td>Change, move, adjustment</td>\n",
       "      <td>independent</td>\n",
       "      <td>no conflict</td>\n",
       "      <td>3.0</td>\n",
       "      <td>1</td>\n",
       "      <td>0</td>\n",
       "      <td>Peer independent</td>\n",
       "      <td>independent</td>\n",
       "    </tr>\n",
       "  </tbody>\n",
       "</table>\n",
       "</div>"
      ],
      "text/plain": [
       "   Participant Event Start Subimpact                      Category  \\\n",
       "0            1    E2   NaN         2  Interpersonal problem - peer   \n",
       "1            2    E2    12         5                    Separation   \n",
       "2            3    E2     7         2      Change, move, adjustment   \n",
       "3            4    E2    52         2  Interpersonal problem - peer   \n",
       "4            5    E2    16         2      Change, move, adjustment   \n",
       "\n",
       "       Content     Conflict  Impact Independence Rejection  \\\n",
       "0    dependent  no conflict     2.0            5         0   \n",
       "1  independent  no conflict     3.0            1         1   \n",
       "2    dependent  no conflict     2.0            5         0   \n",
       "3    dependent         peer     2.5            4         0   \n",
       "4  independent  no conflict     3.0            1         0   \n",
       "\n",
       "              Content_specific Independence_binary  \n",
       "0               Peer dependent           dependent  \n",
       "1             Peer independent         independent  \n",
       "2  School transition dependent           dependent  \n",
       "3               Peer dependent           dependent  \n",
       "4             Peer independent         independent  "
      ]
     },
     "execution_count": 31,
     "metadata": {},
     "output_type": "execute_result"
    }
   ],
   "source": [
    "stress_df_decoded.head()"
   ]
  },
  {
   "cell_type": "code",
   "execution_count": 32,
   "id": "cedc6993-2c7b-4b81-a2d8-d79a45422ecb",
   "metadata": {},
   "outputs": [
    {
     "data": {
      "text/html": [
       "<div>\n",
       "<style scoped>\n",
       "    .dataframe tbody tr th:only-of-type {\n",
       "        vertical-align: middle;\n",
       "    }\n",
       "\n",
       "    .dataframe tbody tr th {\n",
       "        vertical-align: top;\n",
       "    }\n",
       "\n",
       "    .dataframe thead th {\n",
       "        text-align: right;\n",
       "    }\n",
       "</style>\n",
       "<table border=\"1\" class=\"dataframe\">\n",
       "  <thead>\n",
       "    <tr style=\"text-align: right;\">\n",
       "      <th></th>\n",
       "      <th>Participant</th>\n",
       "      <th>Impact</th>\n",
       "    </tr>\n",
       "  </thead>\n",
       "  <tbody>\n",
       "    <tr>\n",
       "      <th>count</th>\n",
       "      <td>310.000000</td>\n",
       "      <td>310.000000</td>\n",
       "    </tr>\n",
       "    <tr>\n",
       "      <th>mean</th>\n",
       "      <td>22.087097</td>\n",
       "      <td>2.259677</td>\n",
       "    </tr>\n",
       "    <tr>\n",
       "      <th>std</th>\n",
       "      <td>12.887194</td>\n",
       "      <td>0.787947</td>\n",
       "    </tr>\n",
       "    <tr>\n",
       "      <th>min</th>\n",
       "      <td>1.000000</td>\n",
       "      <td>1.000000</td>\n",
       "    </tr>\n",
       "    <tr>\n",
       "      <th>25%</th>\n",
       "      <td>12.000000</td>\n",
       "      <td>2.000000</td>\n",
       "    </tr>\n",
       "    <tr>\n",
       "      <th>50%</th>\n",
       "      <td>19.000000</td>\n",
       "      <td>2.000000</td>\n",
       "    </tr>\n",
       "    <tr>\n",
       "      <th>75%</th>\n",
       "      <td>34.000000</td>\n",
       "      <td>3.000000</td>\n",
       "    </tr>\n",
       "    <tr>\n",
       "      <th>max</th>\n",
       "      <td>48.000000</td>\n",
       "      <td>5.000000</td>\n",
       "    </tr>\n",
       "  </tbody>\n",
       "</table>\n",
       "</div>"
      ],
      "text/plain": [
       "       Participant      Impact\n",
       "count   310.000000  310.000000\n",
       "mean     22.087097    2.259677\n",
       "std      12.887194    0.787947\n",
       "min       1.000000    1.000000\n",
       "25%      12.000000    2.000000\n",
       "50%      19.000000    2.000000\n",
       "75%      34.000000    3.000000\n",
       "max      48.000000    5.000000"
      ]
     },
     "execution_count": 32,
     "metadata": {},
     "output_type": "execute_result"
    }
   ],
   "source": [
    "stress_df_decoded.describe()"
   ]
  },
  {
   "cell_type": "code",
   "execution_count": 33,
   "id": "99fb0a66-2a8e-49e4-8969-ebb77d9807fa",
   "metadata": {},
   "outputs": [
    {
     "data": {
      "text/plain": [
       "dependent        21\n",
       "independent      21\n",
       "interpersonal     6\n",
       "Name: Content, dtype: int64"
      ]
     },
     "execution_count": 33,
     "metadata": {},
     "output_type": "execute_result"
    }
   ],
   "source": [
    "stress_df_decoded.Content.value_counts()"
   ]
  },
  {
   "cell_type": "code",
   "execution_count": 34,
   "id": "73db3680-781c-4094-bd2f-ebb7377eed31",
   "metadata": {},
   "outputs": [
    {
     "data": {
      "text/plain": [
       "independent    25\n",
       "dependent      23\n",
       "Name: Independence_binary, dtype: int64"
      ]
     },
     "execution_count": 34,
     "metadata": {},
     "output_type": "execute_result"
    }
   ],
   "source": [
    "stress_df_decoded.Independence_binary.value_counts()"
   ]
  },
  {
   "cell_type": "code",
   "execution_count": 46,
   "id": "5ce9b387-56bf-4a10-aa61-59121179ef9c",
   "metadata": {},
   "outputs": [
    {
     "data": {
      "text/plain": [
       "Content_specific                     Impact\n",
       "Also romantic interpersonal          2.0       1\n",
       "Family independent                   1.5       1\n",
       "                                     2.5       1\n",
       "                                     3.0       1\n",
       "                                     4.5       1\n",
       "Other interpersonal dependent        2.0       2\n",
       "                                     2.5       1\n",
       "                                     3.0       1\n",
       "Other non-interpersonal dependent    1.0       1\n",
       "Other non-interpersonal independent  1.0       1\n",
       "                                     3.0       1\n",
       "Peer dependent                       2.5       4\n",
       "                                     2.0       2\n",
       "                                     1.0       1\n",
       "                                     3.0       1\n",
       "Peer independent                     2.0       7\n",
       "                                     3.0       5\n",
       "                                     1.0       1\n",
       "                                     1.5       1\n",
       "                                     2.5       1\n",
       "Romantic interpersonal               1.0       2\n",
       "                                     2.5       1\n",
       "                                     3.0       1\n",
       "                                     3.5       1\n",
       "School academic dependent            2.0       1\n",
       "                                     2.5       1\n",
       "                                     3.0       1\n",
       "School behavior dependent            2.0       1\n",
       "School transition dependent          2.0       3\n",
       "                                     3.0       1\n",
       "Name: Impact, dtype: int64"
      ]
     },
     "execution_count": 46,
     "metadata": {},
     "output_type": "execute_result"
    }
   ],
   "source": [
    "stress_df_decoded.groupby(\"Content_specific\").Impact.value_counts()"
   ]
  },
  {
   "cell_type": "code",
   "execution_count": 36,
   "id": "a599678d-84d8-482a-ad39-b9a56851544b",
   "metadata": {},
   "outputs": [],
   "source": [
    "import matplotlib.pyplot as plt\n",
    "import seaborn as sns"
   ]
  },
  {
   "cell_type": "code",
   "execution_count": 37,
   "id": "8e7d0dca-d8ce-481f-bcc6-cd74e0a05251",
   "metadata": {},
   "outputs": [
    {
     "data": {
      "text/plain": [
       "<AxesSubplot:xlabel='Independence_binary', ylabel='Impact'>"
      ]
     },
     "execution_count": 37,
     "metadata": {},
     "output_type": "execute_result"
    },
    {
     "data": {
      "image/png": "[encoded data removed]",
      "text/plain": [
       "<Figure size 432x288 with 1 Axes>"
      ]
     },
     "metadata": {
      "needs_background": "light"
     },
     "output_type": "display_data"
    }
   ],
   "source": [
    "sns.boxplot(data=stress_df_decoded,x=\"Independence_binary\",y=\"Impact\")"
   ]
  },
  {
   "cell_type": "code",
   "execution_count": 38,
   "id": "b2e2f927-7349-4316-a8f9-40464f27fdf8",
   "metadata": {},
   "outputs": [
    {
     "data": {
      "text/plain": [
       "<AxesSubplot:xlabel='Conflict', ylabel='Impact'>"
      ]
     },
     "execution_count": 38,
     "metadata": {},
     "output_type": "execute_result"
    },
    {
     "data": {
      "image/png": "[encoded data removed]",
      "text/plain": [
       "<Figure size 432x288 with 1 Axes>"
      ]
     },
     "metadata": {
      "needs_background": "light"
     },
     "output_type": "display_data"
    }
   ],
   "source": [
    "sns.violinplot(data=stress_df_decoded,x=\"Conflict\",y=\"Impact\",hue=\"Independence_binary\")"
   ]
  },
  {
   "cell_type": "code",
   "execution_count": 44,
   "id": "eb52ca77-d62d-457d-a329-6734265911be",
   "metadata": {},
   "outputs": [
    {
     "data": {
      "text/plain": [
       "Conflict      Independence_binary\n",
       "cross-gender  independent             1\n",
       "no conflict   dependent              19\n",
       "              independent            19\n",
       "other         dependent               2\n",
       "              independent             1\n",
       "peer          independent             4\n",
       "              dependent               2\n",
       "Name: Independence_binary, dtype: int64"
      ]
     },
     "execution_count": 44,
     "metadata": {},
     "output_type": "execute_result"
    }
   ],
   "source": [
    "stress_df_decoded.groupby(\"Conflict\").Independence_binary.value_counts()"
   ]
  },
  {
   "cell_type": "code",
   "execution_count": 39,
   "id": "10c973c2-ecdb-4b83-8ed1-a8ab201f315c",
   "metadata": {},
   "outputs": [
    {
     "data": {
      "text/plain": [
       "<AxesSubplot:xlabel='Category', ylabel='Impact'>"
      ]
     },
     "execution_count": 39,
     "metadata": {},
     "output_type": "execute_result"
    },
    {
     "data": {
      "image/png": "[encoded data removed]",
      "text/plain": [
       "<Figure size 432x288 with 1 Axes>"
      ]
     },
     "metadata": {
      "needs_background": "light"
     },
     "output_type": "display_data"
    }
   ],
   "source": [
    "sns.violinplot(data=stress_df_decoded,x=\"Category\",y=\"Impact\",hue=\"Independence_binary\")"
   ]
  },
  {
   "cell_type": "code",
   "execution_count": null,
   "id": "232050eb-d19a-415f-a816-650ca9c2c35b",
   "metadata": {},
   "outputs": [],
   "source": []
  }
 ],
 "metadata": {
  "kernelspec": {
   "display_name": "Python 3",
   "language": "python",
   "name": "python3"
  },
  "language_info": {
   "codemirror_mode": {
    "name": "ipython",
    "version": 3
   },
   "file_extension": ".py",
   "mimetype": "text/x-python",
   "name": "python",
   "nbconvert_exporter": "python",
   "pygments_lexer": "ipython3",
   "version": "3.8.12"
  }
 },
 "nbformat": 4,
 "nbformat_minor": 5
}
