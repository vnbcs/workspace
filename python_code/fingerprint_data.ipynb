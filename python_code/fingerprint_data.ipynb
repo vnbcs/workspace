{
 "cells": [
  {
   "cell_type": "markdown",
   "id": "7957e1a6-44bd-4bd3-abe6-ae5da4ba1587",
   "metadata": {
    "tags": []
   },
   "source": [
    "# importing data"
   ]
  },
  {
   "cell_type": "code",
   "execution_count": 1,
   "id": "a1276e6d-996e-4b86-9035-844a9f8e4bac",
   "metadata": {},
   "outputs": [],
   "source": [
    "import scipy.io as sio\n",
    "import os\n",
    "import numpy as np\n",
    "import pandas as pd\n",
    "import matplotlib.pyplot as plt\n",
    "import seaborn as sns"
   ]
  },
  {
   "cell_type": "code",
   "execution_count": 2,
   "id": "c3a1a045-523e-43fd-b62c-53d2470d5a8b",
   "metadata": {},
   "outputs": [
    {
     "name": "stdout",
     "output_type": "stream",
     "text": [
      "Pretty printing has been turned OFF\n"
     ]
    }
   ],
   "source": [
    "%pprint"
   ]
  },
  {
   "cell_type": "code",
   "execution_count": 3,
   "id": "3a6d66ed-4313-4f4a-9cf5-3bba7b96d5f6",
   "metadata": {},
   "outputs": [],
   "source": [
    "start_dir = \"../../\"+os.path.relpath(os.path.expanduser(\"~\"))+\"/Volumes/project/Hanson\""
   ]
  },
  {
   "cell_type": "code",
   "execution_count": 4,
   "id": "693fe276-d7f8-4a3c-911c-8ab53158604a",
   "metadata": {},
   "outputs": [],
   "source": [
    "floc = \"/External_MRI_Projects/NKI_Rockland/Neuroimaging/BIDS/derivatives/DWI_mrtrix_preprocessed\""
   ]
  },
  {
   "cell_type": "code",
   "execution_count": 5,
   "id": "b56d7199-544e-475c-9356-45e5f60a9110",
   "metadata": {},
   "outputs": [
    {
     "data": {
      "text/plain": [
       "['Fingerprint_test_connectometry.qa.db.fib.gz.vec0.mat', 'FingerPrintTest.N677.connectometry.qa.db.fib.gz.vec0.mat', 'FingerPrintTest.N677.connectometry.qa.db.fib.gz.vec1.mat']"
      ]
     },
     "execution_count": 5,
     "metadata": {},
     "output_type": "execute_result"
    }
   ],
   "source": [
    "[ x for x in os.listdir(start_dir+floc) if x.endswith(\"mat\") ]"
   ]
  },
  {
   "cell_type": "code",
   "execution_count": 6,
   "id": "85158303-d768-41f3-983a-0fae8fae1d1b",
   "metadata": {},
   "outputs": [],
   "source": [
    "test_fn = '/Fingerprint_test_connectometry.qa.db.fib.gz.vec0.mat'\n",
    "real_fn1 = '/FingerPrintTest.N677.connectometry.qa.db.fib.gz.vec0.mat'\n",
    "real_fn2 = '/FingerPrintTest.N677.connectometry.qa.db.fib.gz.vec1.mat'"
   ]
  },
  {
   "cell_type": "code",
   "execution_count": 7,
   "id": "87d61a99-c21f-4e2c-ae53-9e3fbe5bdef2",
   "metadata": {},
   "outputs": [],
   "source": [
    "# matfile1 = sio.loadmat(start_dir+floc+real_fn1)\n",
    "# matfile2 = sio.loadmat(start_dir+floc+real_fn2)"
   ]
  },
  {
   "cell_type": "code",
   "execution_count": 8,
   "id": "992fa106-7d6a-483f-bb60-d54b887e9ee1",
   "metadata": {},
   "outputs": [],
   "source": [
    "# joblib is the same as pickle but more efficient for stuff w numpy arrays\n",
    "from joblib import dump, load"
   ]
  },
  {
   "cell_type": "code",
   "execution_count": 9,
   "id": "5a895391-a430-435f-808d-3605a70f3357",
   "metadata": {},
   "outputs": [],
   "source": [
    "# dump(matfile1, '../files/mat1.joblib',compress=3) \n",
    "# dump(matfile2, '../files/mat2.joblib',compress=3) "
   ]
  },
  {
   "cell_type": "code",
   "execution_count": 10,
   "id": "1342a046-a537-4474-abf4-8cadcce277c8",
   "metadata": {},
   "outputs": [],
   "source": [
    "matfile1 = load('../files/mat1.joblib') \n",
    "matfile2 = load('../files/mat2.joblib') "
   ]
  },
  {
   "cell_type": "code",
   "execution_count": 11,
   "id": "4430aaea-4eda-47e7-b304-fe8dd39f82f7",
   "metadata": {},
   "outputs": [
    {
     "data": {
      "text/plain": [
       "['subject_names', 'subject0', 'subject1', 'subject2', 'subject3', 'subject4', 'subject5', 'subject6', 'subject7', 'subject8', 'subject9', 'subject10', 'subject11', 'subject12', 'subject13', 'subject14', 'subject15', 'subject16', 'subject17', 'subject18']"
      ]
     },
     "execution_count": 11,
     "metadata": {},
     "output_type": "execute_result"
    }
   ],
   "source": [
    "list(matfile1.keys())[:20]"
   ]
  },
  {
   "cell_type": "code",
   "execution_count": 12,
   "id": "020ef8ea-ba30-413c-b2ae-511a5d8e75b6",
   "metadata": {},
   "outputs": [
    {
     "data": {
      "text/plain": [
       "['subject384', 'subject385', 'subject386', 'subject387', 'subject388', 'subject389', 'subject390', 'subject391', 'subject392', 'subject393', 'subject394', 'subject395', 'subject396', 'subject397', 'subject398', 'subject399', 'dimension', 'voxel_location', 'mni_location', 'fiber_direction']"
      ]
     },
     "execution_count": 12,
     "metadata": {},
     "output_type": "execute_result"
    }
   ],
   "source": [
    "list(matfile1.keys())[-20:]"
   ]
  },
  {
   "cell_type": "code",
   "execution_count": 16,
   "id": "c84ce13a-032b-419b-835a-2e93ddc59633",
   "metadata": {},
   "outputs": [
    {
     "data": {
      "text/plain": [
       "['fingerprint_31_gs.joblib', 'fingerprint_model_gs.joblib', 'fingerprint_32_gs_r2.joblib', 'fingerprinty_30.joblib', 'fingerprinty_32.joblib', 'mat2.joblib', 'fingerprint_cv_scores.joblib', 'fingerprintY.joblib', 'fingerprint_30_gs.joblib', 'fingerprint_all_gs.joblib', 'fingerprint_29_gs.joblib', 'fingerprint_svr_gs.joblib', 'mat1.joblib', 'fingerprint_model.joblib', 'NKI_IRI_DWI_combined.csv', 'fingerprinty_31.joblib', 'fingerprint_29_gs_r2.joblib', 'NKIRS_Impulsivity.csv', 'fingerprintX_pca.joblib', 'fingerprint_32_gs.joblib', 'fingerprinty_29.joblib', 'fingerprintX.joblib', 'fingerprint_31_gs_r2.joblib', 'NKI_fingerprint_test.csv', 'fingerprint_30_gs_r2.joblib']"
      ]
     },
     "execution_count": 16,
     "metadata": {},
     "output_type": "execute_result"
    }
   ],
   "source": [
    "os.listdir(\"../files\")"
   ]
  },
  {
   "cell_type": "code",
   "execution_count": 36,
   "id": "fd0b3f99-3422-4297-a7d6-5e5b63deb85f",
   "metadata": {},
   "outputs": [],
   "source": [
    "# phenotypic data\n",
    "pheno_df = pd.read_csv(\"../files/NKI_IRI_DWI_combined.csv\")\n",
    "impulse_df = pd.read_csv(\"../files/NKIRS_Impulsivity.csv\")"
   ]
  },
  {
   "cell_type": "code",
   "execution_count": 37,
   "id": "d860bd50-d4dc-46b8-92c0-ebbdf029ed65",
   "metadata": {},
   "outputs": [],
   "source": [
    "pheno_df[\"sub\"]=pheno_df.Identifiers_alt.map(lambda x: x.split(\"_\")[0].split(\"-\")[-1])\n",
    "pheno_df[\"ses\"]=pheno_df.Identifiers_alt.map(lambda x: x.split(\"_\")[1].split(\"-\")[-1])"
   ]
  },
  {
   "cell_type": "code",
   "execution_count": 38,
   "id": "1f89e5fd-dc89-4090-a2fe-d1fe43abf81c",
   "metadata": {},
   "outputs": [
    {
     "data": {
      "text/html": [
       "<div>\n",
       "<style scoped>\n",
       "    .dataframe tbody tr th:only-of-type {\n",
       "        vertical-align: middle;\n",
       "    }\n",
       "\n",
       "    .dataframe tbody tr th {\n",
       "        vertical-align: top;\n",
       "    }\n",
       "\n",
       "    .dataframe thead th {\n",
       "        text-align: right;\n",
       "    }\n",
       "</style>\n",
       "<table border=\"1\" class=\"dataframe\">\n",
       "  <thead>\n",
       "    <tr style=\"text-align: right;\">\n",
       "      <th></th>\n",
       "      <th>Identifiers_alt</th>\n",
       "      <th>age</th>\n",
       "      <th>sex</th>\n",
       "      <th>ipri_29</th>\n",
       "      <th>ipri_30</th>\n",
       "      <th>ipri_31</th>\n",
       "      <th>ipri_32</th>\n",
       "      <th>sub</th>\n",
       "      <th>ses</th>\n",
       "    </tr>\n",
       "  </thead>\n",
       "  <tbody>\n",
       "    <tr>\n",
       "      <th>0</th>\n",
       "      <td>sub-A00023510_ses-BAS1</td>\n",
       "      <td>23</td>\n",
       "      <td>0</td>\n",
       "      <td>17</td>\n",
       "      <td>21</td>\n",
       "      <td>19</td>\n",
       "      <td>17</td>\n",
       "      <td>A00023510</td>\n",
       "      <td>BAS1</td>\n",
       "    </tr>\n",
       "    <tr>\n",
       "      <th>1</th>\n",
       "      <td>sub-A00027439_ses-BAS1</td>\n",
       "      <td>15</td>\n",
       "      <td>0</td>\n",
       "      <td>17</td>\n",
       "      <td>11</td>\n",
       "      <td>14</td>\n",
       "      <td>8</td>\n",
       "      <td>A00027439</td>\n",
       "      <td>BAS1</td>\n",
       "    </tr>\n",
       "    <tr>\n",
       "      <th>2</th>\n",
       "      <td>sub-A00027443_ses-BAS1</td>\n",
       "      <td>15</td>\n",
       "      <td>0</td>\n",
       "      <td>11</td>\n",
       "      <td>9</td>\n",
       "      <td>16</td>\n",
       "      <td>5</td>\n",
       "      <td>A00027443</td>\n",
       "      <td>BAS1</td>\n",
       "    </tr>\n",
       "    <tr>\n",
       "      <th>3</th>\n",
       "      <td>sub-A00027544_ses-BAS1</td>\n",
       "      <td>22</td>\n",
       "      <td>0</td>\n",
       "      <td>22</td>\n",
       "      <td>19</td>\n",
       "      <td>24</td>\n",
       "      <td>16</td>\n",
       "      <td>A00027544</td>\n",
       "      <td>BAS1</td>\n",
       "    </tr>\n",
       "    <tr>\n",
       "      <th>4</th>\n",
       "      <td>sub-A00028150_ses-BAS1</td>\n",
       "      <td>44</td>\n",
       "      <td>1</td>\n",
       "      <td>12</td>\n",
       "      <td>18</td>\n",
       "      <td>19</td>\n",
       "      <td>17</td>\n",
       "      <td>A00028150</td>\n",
       "      <td>BAS1</td>\n",
       "    </tr>\n",
       "  </tbody>\n",
       "</table>\n",
       "</div>"
      ],
      "text/plain": [
       "          Identifiers_alt  age  sex  ipri_29  ipri_30  ipri_31  ipri_32  \\\n",
       "0  sub-A00023510_ses-BAS1   23    0       17       21       19       17   \n",
       "1  sub-A00027439_ses-BAS1   15    0       17       11       14        8   \n",
       "2  sub-A00027443_ses-BAS1   15    0       11        9       16        5   \n",
       "3  sub-A00027544_ses-BAS1   22    0       22       19       24       16   \n",
       "4  sub-A00028150_ses-BAS1   44    1       12       18       19       17   \n",
       "\n",
       "         sub   ses  \n",
       "0  A00023510  BAS1  \n",
       "1  A00027439  BAS1  \n",
       "2  A00027443  BAS1  \n",
       "3  A00027544  BAS1  \n",
       "4  A00028150  BAS1  "
      ]
     },
     "execution_count": 38,
     "metadata": {},
     "output_type": "execute_result"
    }
   ],
   "source": [
    "pheno_df.head()"
   ]
  },
  {
   "cell_type": "code",
   "execution_count": 83,
   "id": "c89bfadf-61a6-4989-968d-58e44870593c",
   "metadata": {},
   "outputs": [
    {
     "data": {
      "text/plain": [
       "1.7799113737075332"
      ]
     },
     "execution_count": 83,
     "metadata": {},
     "output_type": "execute_result"
    }
   ],
   "source": [
    "len(impulse_df)/len(pheno_df)"
   ]
  },
  {
   "cell_type": "code",
   "execution_count": 39,
   "id": "85f4b728-6af8-4f86-a1db-cc5d46d652c2",
   "metadata": {},
   "outputs": [],
   "source": [
    "impulse_df[\"sub\"]=impulse_df.Identifiers.map(lambda x: x.split(\",\")[0])\n",
    "impulse_df[\"ses\"]=impulse_df.Identifiers.map(lambda x: x.split(\",\")[1])"
   ]
  },
  {
   "cell_type": "code",
   "execution_count": 40,
   "id": "e1c52c45-c456-40e0-a0f0-1e6b6b495d40",
   "metadata": {},
   "outputs": [
    {
     "data": {
      "text/html": [
       "<div>\n",
       "<style scoped>\n",
       "    .dataframe tbody tr th:only-of-type {\n",
       "        vertical-align: middle;\n",
       "    }\n",
       "\n",
       "    .dataframe tbody tr th {\n",
       "        vertical-align: top;\n",
       "    }\n",
       "\n",
       "    .dataframe thead th {\n",
       "        text-align: right;\n",
       "    }\n",
       "</style>\n",
       "<table border=\"1\" class=\"dataframe\">\n",
       "  <thead>\n",
       "    <tr style=\"text-align: right;\">\n",
       "      <th></th>\n",
       "      <th>Identifiers</th>\n",
       "      <th>upps_65</th>\n",
       "      <th>sub</th>\n",
       "      <th>ses</th>\n",
       "    </tr>\n",
       "  </thead>\n",
       "  <tbody>\n",
       "    <tr>\n",
       "      <th>0</th>\n",
       "      <td>A00008326,BAS1</td>\n",
       "      <td>109</td>\n",
       "      <td>A00008326</td>\n",
       "      <td>BAS1</td>\n",
       "    </tr>\n",
       "    <tr>\n",
       "      <th>1</th>\n",
       "      <td>A00008326,BAS2</td>\n",
       "      <td>97</td>\n",
       "      <td>A00008326</td>\n",
       "      <td>BAS2</td>\n",
       "    </tr>\n",
       "    <tr>\n",
       "      <th>2</th>\n",
       "      <td>A00008399,BAS1</td>\n",
       "      <td>134</td>\n",
       "      <td>A00008399</td>\n",
       "      <td>BAS1</td>\n",
       "    </tr>\n",
       "    <tr>\n",
       "      <th>3</th>\n",
       "      <td>A00010893,BAS1</td>\n",
       "      <td>122</td>\n",
       "      <td>A00010893</td>\n",
       "      <td>BAS1</td>\n",
       "    </tr>\n",
       "    <tr>\n",
       "      <th>4</th>\n",
       "      <td>A00013809,BAS1</td>\n",
       "      <td>107</td>\n",
       "      <td>A00013809</td>\n",
       "      <td>BAS1</td>\n",
       "    </tr>\n",
       "  </tbody>\n",
       "</table>\n",
       "</div>"
      ],
      "text/plain": [
       "      Identifiers upps_65        sub   ses\n",
       "0  A00008326,BAS1     109  A00008326  BAS1\n",
       "1  A00008326,BAS2      97  A00008326  BAS2\n",
       "2  A00008399,BAS1     134  A00008399  BAS1\n",
       "3  A00010893,BAS1     122  A00010893  BAS1\n",
       "4  A00013809,BAS1     107  A00013809  BAS1"
      ]
     },
     "execution_count": 40,
     "metadata": {},
     "output_type": "execute_result"
    }
   ],
   "source": [
    "impulse_df.head()"
   ]
  },
  {
   "cell_type": "code",
   "execution_count": 85,
   "id": "d36cdec9-21a6-4c6a-9979-722d08e9654f",
   "metadata": {},
   "outputs": [
    {
     "data": {
      "text/plain": [
       "'A00028352'"
      ]
     },
     "execution_count": 85,
     "metadata": {},
     "output_type": "execute_result"
    }
   ],
   "source": [
    "pheno_df.loc[10,\"sub\"]"
   ]
  },
  {
   "cell_type": "code",
   "execution_count": 84,
   "id": "5b0b078a-d77d-43ed-b15d-47760e204f7d",
   "metadata": {},
   "outputs": [
    {
     "data": {
      "text/plain": [
       "0       A00008326\n",
       "1       A00008326\n",
       "2       A00008399\n",
       "3       A00010893\n",
       "4       A00013809\n",
       "          ...    \n",
       "1200    A00088403\n",
       "1201    A00088408\n",
       "1202    A00088716\n",
       "1203    A00089407\n",
       "1204    A00089408\n",
       "Name: sub, Length: 1205, dtype: object"
      ]
     },
     "execution_count": 84,
     "metadata": {},
     "output_type": "execute_result"
    }
   ],
   "source": [
    "impulse_df[\"sub\"]"
   ]
  },
  {
   "cell_type": "code",
   "execution_count": 79,
   "id": "d84b8918-bee7-499f-af4c-df3206605c78",
   "metadata": {},
   "outputs": [],
   "source": [
    "valid_subs = []\n",
    "for i in pheno_df.index:\n",
    "    valid_subs.append(pheno_df.loc[i,\"sub\"] in impulse_df[\"sub\"])"
   ]
  },
  {
   "cell_type": "code",
   "execution_count": 80,
   "id": "7ce7a1bb-725b-435f-8a3f-e621d70a9955",
   "metadata": {},
   "outputs": [
    {
     "data": {
      "text/plain": [
       "[False, False, False, False, False, False, False, False, False, False, False, False, False, False, False, False, False, False, False, False, False, False, False, False, False, False, False, False, False, False, False, False, False, False, False, False, False, False, False, False, False, False, False, False, False, False, False, False, False, False, False, False, False, False, False, False, False, False, False, False, False, False, False, False, False, False, False, False, False, False, False, False, False, False, False, False, False, False, False, False, False, False, False, False, False, False, False, False, False, False, False, False, False, False, False, False, False, False, False, False, False, False, False, False, False, False, False, False, False, False, False, False, False, False, False, False, False, False, False, False, False, False, False, False, False, False, False, False, False, False, False, False, False, False, False, False, False, False, False, False, False, False, False, False, False, False, False, False, False, False, False, False, False, False, False, False, False, False, False, False, False, False, False, False, False, False, False, False, False, False, False, False, False, False, False, False, False, False, False, False, False, False, False, False, False, False, False, False, False, False, False, False, False, False, False, False, False, False, False, False, False, False, False, False, False, False, False, False, False, False, False, False, False, False, False, False, False, False, False, False, False, False, False, False, False, False, False, False, False, False, False, False, False, False, False, False, False, False, False, False, False, False, False, False, False, False, False, False, False, False, False, False, False, False, False, False, False, False, False, False, False, False, False, False, False, False, False, False, False, False, False, False, False, False, False, False, False, False, False, False, False, False, False, False, False, False, False, False, False, False, False, False, False, False, False, False, False, False, False, False, False, False, False, False, False, False, False, False, False, False, False, False, False, False, False, False, False, False, False, False, False, False, False, False, False, False, False, False, False, False, False, False, False, False, False, False, False, False, False, False, False, False, False, False, False, False, False, False, False, False, False, False, False, False, False, False, False, False, False, False, False, False, False, False, False, False, False, False, False, False, False, False, False, False, False, False, False, False, False, False, False, False, False, False, False, False, False, False, False, False, False, False, False, False, False, False, False, False, False, False, False, False, False, False, False, False, False, False, False, False, False, False, False, False, False, False, False, False, False, False, False, False, False, False, False, False, False, False, False, False, False, False, False, False, False, False, False, False, False, False, False, False, False, False, False, False, False, False, False, False, False, False, False, False, False, False, False, False, False, False, False, False, False, False, False, False, False, False, False, False, False, False, False, False, False, False, False, False, False, False, False, False, False, False, False, False, False, False, False, False, False, False, False, False, False, False, False, False, False, False, False, False, False, False, False, False, False, False, False, False, False, False, False, False, False, False, False, False, False, False, False, False, False, False, False, False, False, False, False, False, False, False, False, False, False, False, False, False, False, False, False, False, False, False, False, False, False, False, False, False, False, False, False, False, False, False, False, False, False, False, False, False, False, False, False, False, False, False, False, False, False, False, False, False, False, False, False, False, False, False, False, False, False, False, False, False, False, False, False, False, False, False, False, False, False, False, False, False, False, False, False, False, False, False, False, False, False, False, False, False, False, False, False, False, False, False, False, False, False, False, False, False, False, False, False, False, False, False, False, False, False, False, False, False, False, False, False, False, False, False, False, False, False, False, False, False, False, False, False, False, False, False, False, False, False, False, False, False, False, False, False, False, False, False, False, False, False, False, False, False, False, False, False, False, False, False, False]"
      ]
     },
     "execution_count": 80,
     "metadata": {},
     "output_type": "execute_result"
    }
   ],
   "source": [
    "valid_subs"
   ]
  },
  {
   "cell_type": "code",
   "execution_count": 78,
   "id": "076adbda-0e87-40fb-8860-c1689fb91b73",
   "metadata": {},
   "outputs": [
    {
     "data": {
      "text/plain": [
       "False"
      ]
     },
     "execution_count": 78,
     "metadata": {},
     "output_type": "execute_result"
    }
   ],
   "source": [
    "'A000023510' in impulse_df[\"sub\"]"
   ]
  },
  {
   "cell_type": "code",
   "execution_count": 72,
   "id": "8172bb0d-4704-41fb-b645-72b1fe63396f",
   "metadata": {},
   "outputs": [
    {
     "data": {
      "text/plain": [
       "'BAS1'"
      ]
     },
     "execution_count": 72,
     "metadata": {},
     "output_type": "execute_result"
    }
   ],
   "source": [
    "pheno_df.loc[0,\"ses\"]"
   ]
  },
  {
   "cell_type": "code",
   "execution_count": 65,
   "id": "618cc75d-5cda-4dad-84f2-7f4dd7901655",
   "metadata": {},
   "outputs": [],
   "source": [
    "def getImpulse(subval, sesval):\n",
    "    return impulse_df.loc[impulse_df['sub'].eq(subval) & impulse_df['ses'].eq(sesval)].upps_65[0]"
   ]
  },
  {
   "cell_type": "code",
   "execution_count": 73,
   "id": "d2c63edf-192f-4093-ad60-886fc44aed7d",
   "metadata": {},
   "outputs": [
    {
     "ename": "KeyError",
     "evalue": "0",
     "output_type": "error",
     "traceback": [
      "\u001b[0;31m---------------------------------------------------------------------------\u001b[0m",
      "\u001b[0;31mKeyError\u001b[0m                                  Traceback (most recent call last)",
      "\u001b[0;32m~/opt/anaconda3/lib/python3.8/site-packages/pandas/core/indexes/base.py\u001b[0m in \u001b[0;36mget_loc\u001b[0;34m(self, key, method, tolerance)\u001b[0m\n\u001b[1;32m   3360\u001b[0m             \u001b[0;32mtry\u001b[0m\u001b[0;34m:\u001b[0m\u001b[0;34m\u001b[0m\u001b[0;34m\u001b[0m\u001b[0m\n\u001b[0;32m-> 3361\u001b[0;31m                 \u001b[0;32mreturn\u001b[0m \u001b[0mself\u001b[0m\u001b[0;34m.\u001b[0m\u001b[0m_engine\u001b[0m\u001b[0;34m.\u001b[0m\u001b[0mget_loc\u001b[0m\u001b[0;34m(\u001b[0m\u001b[0mcasted_key\u001b[0m\u001b[0;34m)\u001b[0m\u001b[0;34m\u001b[0m\u001b[0;34m\u001b[0m\u001b[0m\n\u001b[0m\u001b[1;32m   3362\u001b[0m             \u001b[0;32mexcept\u001b[0m \u001b[0mKeyError\u001b[0m \u001b[0;32mas\u001b[0m \u001b[0merr\u001b[0m\u001b[0;34m:\u001b[0m\u001b[0;34m\u001b[0m\u001b[0;34m\u001b[0m\u001b[0m\n",
      "\u001b[0;32m~/opt/anaconda3/lib/python3.8/site-packages/pandas/_libs/index.pyx\u001b[0m in \u001b[0;36mpandas._libs.index.IndexEngine.get_loc\u001b[0;34m()\u001b[0m\n",
      "\u001b[0;32m~/opt/anaconda3/lib/python3.8/site-packages/pandas/_libs/index.pyx\u001b[0m in \u001b[0;36mpandas._libs.index.IndexEngine.get_loc\u001b[0;34m()\u001b[0m\n",
      "\u001b[0;32mpandas/_libs/hashtable_class_helper.pxi\u001b[0m in \u001b[0;36mpandas._libs.hashtable.Int64HashTable.get_item\u001b[0;34m()\u001b[0m\n",
      "\u001b[0;32mpandas/_libs/hashtable_class_helper.pxi\u001b[0m in \u001b[0;36mpandas._libs.hashtable.Int64HashTable.get_item\u001b[0;34m()\u001b[0m\n",
      "\u001b[0;31mKeyError\u001b[0m: 0",
      "\nThe above exception was the direct cause of the following exception:\n",
      "\u001b[0;31mKeyError\u001b[0m                                  Traceback (most recent call last)",
      "\u001b[0;32m/var/folders/l9/jkp3q9p115dbfhtbd6v99m70d66_rf/T/ipykernel_80731/2160449433.py\u001b[0m in \u001b[0;36m<module>\u001b[0;34m\u001b[0m\n\u001b[0;32m----> 1\u001b[0;31m \u001b[0mgetImpulse\u001b[0m\u001b[0;34m(\u001b[0m\u001b[0;34m\"A00023510\"\u001b[0m\u001b[0;34m,\u001b[0m \u001b[0;34m\"BAS1\"\u001b[0m\u001b[0;34m)\u001b[0m\u001b[0;34m\u001b[0m\u001b[0;34m\u001b[0m\u001b[0m\n\u001b[0m",
      "\u001b[0;32m/var/folders/l9/jkp3q9p115dbfhtbd6v99m70d66_rf/T/ipykernel_80731/487441048.py\u001b[0m in \u001b[0;36mgetImpulse\u001b[0;34m(subval, sesval)\u001b[0m\n\u001b[1;32m      1\u001b[0m \u001b[0;32mdef\u001b[0m \u001b[0mgetImpulse\u001b[0m\u001b[0;34m(\u001b[0m\u001b[0msubval\u001b[0m\u001b[0;34m,\u001b[0m \u001b[0msesval\u001b[0m\u001b[0;34m)\u001b[0m\u001b[0;34m:\u001b[0m\u001b[0;34m\u001b[0m\u001b[0;34m\u001b[0m\u001b[0m\n\u001b[0;32m----> 2\u001b[0;31m     \u001b[0;32mreturn\u001b[0m \u001b[0mimpulse_df\u001b[0m\u001b[0;34m.\u001b[0m\u001b[0mloc\u001b[0m\u001b[0;34m[\u001b[0m\u001b[0mimpulse_df\u001b[0m\u001b[0;34m[\u001b[0m\u001b[0;34m'sub'\u001b[0m\u001b[0;34m]\u001b[0m\u001b[0;34m.\u001b[0m\u001b[0meq\u001b[0m\u001b[0;34m(\u001b[0m\u001b[0msubval\u001b[0m\u001b[0;34m)\u001b[0m \u001b[0;34m&\u001b[0m \u001b[0mimpulse_df\u001b[0m\u001b[0;34m[\u001b[0m\u001b[0;34m'ses'\u001b[0m\u001b[0;34m]\u001b[0m\u001b[0;34m.\u001b[0m\u001b[0meq\u001b[0m\u001b[0;34m(\u001b[0m\u001b[0msesval\u001b[0m\u001b[0;34m)\u001b[0m\u001b[0;34m]\u001b[0m\u001b[0;34m.\u001b[0m\u001b[0mupps_65\u001b[0m\u001b[0;34m[\u001b[0m\u001b[0;36m0\u001b[0m\u001b[0;34m]\u001b[0m\u001b[0;34m\u001b[0m\u001b[0;34m\u001b[0m\u001b[0m\n\u001b[0m",
      "\u001b[0;32m~/opt/anaconda3/lib/python3.8/site-packages/pandas/core/series.py\u001b[0m in \u001b[0;36m__getitem__\u001b[0;34m(self, key)\u001b[0m\n\u001b[1;32m    940\u001b[0m \u001b[0;34m\u001b[0m\u001b[0m\n\u001b[1;32m    941\u001b[0m         \u001b[0;32melif\u001b[0m \u001b[0mkey_is_scalar\u001b[0m\u001b[0;34m:\u001b[0m\u001b[0;34m\u001b[0m\u001b[0;34m\u001b[0m\u001b[0m\n\u001b[0;32m--> 942\u001b[0;31m             \u001b[0;32mreturn\u001b[0m \u001b[0mself\u001b[0m\u001b[0;34m.\u001b[0m\u001b[0m_get_value\u001b[0m\u001b[0;34m(\u001b[0m\u001b[0mkey\u001b[0m\u001b[0;34m)\u001b[0m\u001b[0;34m\u001b[0m\u001b[0;34m\u001b[0m\u001b[0m\n\u001b[0m\u001b[1;32m    943\u001b[0m \u001b[0;34m\u001b[0m\u001b[0m\n\u001b[1;32m    944\u001b[0m         \u001b[0;32mif\u001b[0m \u001b[0mis_hashable\u001b[0m\u001b[0;34m(\u001b[0m\u001b[0mkey\u001b[0m\u001b[0;34m)\u001b[0m\u001b[0;34m:\u001b[0m\u001b[0;34m\u001b[0m\u001b[0;34m\u001b[0m\u001b[0m\n",
      "\u001b[0;32m~/opt/anaconda3/lib/python3.8/site-packages/pandas/core/series.py\u001b[0m in \u001b[0;36m_get_value\u001b[0;34m(self, label, takeable)\u001b[0m\n\u001b[1;32m   1049\u001b[0m \u001b[0;34m\u001b[0m\u001b[0m\n\u001b[1;32m   1050\u001b[0m         \u001b[0;31m# Similar to Index.get_value, but we do not fall back to positional\u001b[0m\u001b[0;34m\u001b[0m\u001b[0;34m\u001b[0m\u001b[0;34m\u001b[0m\u001b[0m\n\u001b[0;32m-> 1051\u001b[0;31m         \u001b[0mloc\u001b[0m \u001b[0;34m=\u001b[0m \u001b[0mself\u001b[0m\u001b[0;34m.\u001b[0m\u001b[0mindex\u001b[0m\u001b[0;34m.\u001b[0m\u001b[0mget_loc\u001b[0m\u001b[0;34m(\u001b[0m\u001b[0mlabel\u001b[0m\u001b[0;34m)\u001b[0m\u001b[0;34m\u001b[0m\u001b[0;34m\u001b[0m\u001b[0m\n\u001b[0m\u001b[1;32m   1052\u001b[0m         \u001b[0;32mreturn\u001b[0m \u001b[0mself\u001b[0m\u001b[0;34m.\u001b[0m\u001b[0mindex\u001b[0m\u001b[0;34m.\u001b[0m\u001b[0m_get_values_for_loc\u001b[0m\u001b[0;34m(\u001b[0m\u001b[0mself\u001b[0m\u001b[0;34m,\u001b[0m \u001b[0mloc\u001b[0m\u001b[0;34m,\u001b[0m \u001b[0mlabel\u001b[0m\u001b[0;34m)\u001b[0m\u001b[0;34m\u001b[0m\u001b[0;34m\u001b[0m\u001b[0m\n\u001b[1;32m   1053\u001b[0m \u001b[0;34m\u001b[0m\u001b[0m\n",
      "\u001b[0;32m~/opt/anaconda3/lib/python3.8/site-packages/pandas/core/indexes/base.py\u001b[0m in \u001b[0;36mget_loc\u001b[0;34m(self, key, method, tolerance)\u001b[0m\n\u001b[1;32m   3361\u001b[0m                 \u001b[0;32mreturn\u001b[0m \u001b[0mself\u001b[0m\u001b[0;34m.\u001b[0m\u001b[0m_engine\u001b[0m\u001b[0;34m.\u001b[0m\u001b[0mget_loc\u001b[0m\u001b[0;34m(\u001b[0m\u001b[0mcasted_key\u001b[0m\u001b[0;34m)\u001b[0m\u001b[0;34m\u001b[0m\u001b[0;34m\u001b[0m\u001b[0m\n\u001b[1;32m   3362\u001b[0m             \u001b[0;32mexcept\u001b[0m \u001b[0mKeyError\u001b[0m \u001b[0;32mas\u001b[0m \u001b[0merr\u001b[0m\u001b[0;34m:\u001b[0m\u001b[0;34m\u001b[0m\u001b[0;34m\u001b[0m\u001b[0m\n\u001b[0;32m-> 3363\u001b[0;31m                 \u001b[0;32mraise\u001b[0m \u001b[0mKeyError\u001b[0m\u001b[0;34m(\u001b[0m\u001b[0mkey\u001b[0m\u001b[0;34m)\u001b[0m \u001b[0;32mfrom\u001b[0m \u001b[0merr\u001b[0m\u001b[0;34m\u001b[0m\u001b[0;34m\u001b[0m\u001b[0m\n\u001b[0m\u001b[1;32m   3364\u001b[0m \u001b[0;34m\u001b[0m\u001b[0m\n\u001b[1;32m   3365\u001b[0m         \u001b[0;32mif\u001b[0m \u001b[0mis_scalar\u001b[0m\u001b[0;34m(\u001b[0m\u001b[0mkey\u001b[0m\u001b[0;34m)\u001b[0m \u001b[0;32mand\u001b[0m \u001b[0misna\u001b[0m\u001b[0;34m(\u001b[0m\u001b[0mkey\u001b[0m\u001b[0;34m)\u001b[0m \u001b[0;32mand\u001b[0m \u001b[0;32mnot\u001b[0m \u001b[0mself\u001b[0m\u001b[0;34m.\u001b[0m\u001b[0mhasnans\u001b[0m\u001b[0;34m:\u001b[0m\u001b[0;34m\u001b[0m\u001b[0;34m\u001b[0m\u001b[0m\n",
      "\u001b[0;31mKeyError\u001b[0m: 0"
     ]
    }
   ],
   "source": [
    "getImpulse(\"A00023510\", \"BAS1\")"
   ]
  },
  {
   "cell_type": "code",
   "execution_count": 27,
   "id": "eb7b140b-9fdd-4fad-a630-18ba1a7f2a1c",
   "metadata": {},
   "outputs": [
    {
     "data": {
      "text/html": [
       "<div>\n",
       "<style scoped>\n",
       "    .dataframe tbody tr th:only-of-type {\n",
       "        vertical-align: middle;\n",
       "    }\n",
       "\n",
       "    .dataframe tbody tr th {\n",
       "        vertical-align: top;\n",
       "    }\n",
       "\n",
       "    .dataframe thead th {\n",
       "        text-align: right;\n",
       "    }\n",
       "</style>\n",
       "<table border=\"1\" class=\"dataframe\">\n",
       "  <thead>\n",
       "    <tr style=\"text-align: right;\">\n",
       "      <th></th>\n",
       "      <th>Identifiers</th>\n",
       "      <th>upps_65</th>\n",
       "      <th>sub</th>\n",
       "      <th>ses</th>\n",
       "    </tr>\n",
       "  </thead>\n",
       "  <tbody>\n",
       "    <tr>\n",
       "      <th>0</th>\n",
       "      <td>A00008326,BAS1</td>\n",
       "      <td>109</td>\n",
       "      <td>A00008326</td>\n",
       "      <td>BAS1</td>\n",
       "    </tr>\n",
       "    <tr>\n",
       "      <th>1</th>\n",
       "      <td>A00008326,BAS2</td>\n",
       "      <td>97</td>\n",
       "      <td>A00008326</td>\n",
       "      <td>BAS2</td>\n",
       "    </tr>\n",
       "    <tr>\n",
       "      <th>2</th>\n",
       "      <td>A00008399,BAS1</td>\n",
       "      <td>134</td>\n",
       "      <td>A00008399</td>\n",
       "      <td>BAS1</td>\n",
       "    </tr>\n",
       "    <tr>\n",
       "      <th>3</th>\n",
       "      <td>A00010893,BAS1</td>\n",
       "      <td>122</td>\n",
       "      <td>A00010893</td>\n",
       "      <td>BAS1</td>\n",
       "    </tr>\n",
       "    <tr>\n",
       "      <th>4</th>\n",
       "      <td>A00013809,BAS1</td>\n",
       "      <td>107</td>\n",
       "      <td>A00013809</td>\n",
       "      <td>BAS1</td>\n",
       "    </tr>\n",
       "  </tbody>\n",
       "</table>\n",
       "</div>"
      ],
      "text/plain": [
       "      Identifiers upps_65        sub   ses\n",
       "0  A00008326,BAS1     109  A00008326  BAS1\n",
       "1  A00008326,BAS2      97  A00008326  BAS2\n",
       "2  A00008399,BAS1     134  A00008399  BAS1\n",
       "3  A00010893,BAS1     122  A00010893  BAS1\n",
       "4  A00013809,BAS1     107  A00013809  BAS1"
      ]
     },
     "execution_count": 27,
     "metadata": {},
     "output_type": "execute_result"
    }
   ],
   "source": [
    "impulse_df.head()"
   ]
  },
  {
   "cell_type": "code",
   "execution_count": 15,
   "id": "ff92c41c-4ce6-40b1-b181-b83e336d6937",
   "metadata": {},
   "outputs": [
    {
     "data": {
      "text/html": [
       "<div>\n",
       "<style scoped>\n",
       "    .dataframe tbody tr th:only-of-type {\n",
       "        vertical-align: middle;\n",
       "    }\n",
       "\n",
       "    .dataframe tbody tr th {\n",
       "        vertical-align: top;\n",
       "    }\n",
       "\n",
       "    .dataframe thead th {\n",
       "        text-align: right;\n",
       "    }\n",
       "</style>\n",
       "<table border=\"1\" class=\"dataframe\">\n",
       "  <thead>\n",
       "    <tr style=\"text-align: right;\">\n",
       "      <th></th>\n",
       "      <th>age</th>\n",
       "      <th>sex</th>\n",
       "      <th>ipri_29</th>\n",
       "      <th>ipri_30</th>\n",
       "      <th>ipri_31</th>\n",
       "      <th>ipri_32</th>\n",
       "    </tr>\n",
       "  </thead>\n",
       "  <tbody>\n",
       "    <tr>\n",
       "      <th>count</th>\n",
       "      <td>677.000000</td>\n",
       "      <td>677.000000</td>\n",
       "      <td>677.000000</td>\n",
       "      <td>677.000000</td>\n",
       "      <td>677.000000</td>\n",
       "      <td>677.000000</td>\n",
       "    </tr>\n",
       "    <tr>\n",
       "      <th>mean</th>\n",
       "      <td>32.324963</td>\n",
       "      <td>0.604136</td>\n",
       "      <td>15.877400</td>\n",
       "      <td>14.422452</td>\n",
       "      <td>20.404727</td>\n",
       "      <td>11.707533</td>\n",
       "    </tr>\n",
       "    <tr>\n",
       "      <th>std</th>\n",
       "      <td>13.110167</td>\n",
       "      <td>0.489397</td>\n",
       "      <td>4.216554</td>\n",
       "      <td>6.009014</td>\n",
       "      <td>5.072420</td>\n",
       "      <td>5.204699</td>\n",
       "    </tr>\n",
       "    <tr>\n",
       "      <th>min</th>\n",
       "      <td>13.000000</td>\n",
       "      <td>0.000000</td>\n",
       "      <td>3.000000</td>\n",
       "      <td>0.000000</td>\n",
       "      <td>0.000000</td>\n",
       "      <td>1.000000</td>\n",
       "    </tr>\n",
       "    <tr>\n",
       "      <th>25%</th>\n",
       "      <td>21.000000</td>\n",
       "      <td>0.000000</td>\n",
       "      <td>13.000000</td>\n",
       "      <td>10.000000</td>\n",
       "      <td>17.000000</td>\n",
       "      <td>8.000000</td>\n",
       "    </tr>\n",
       "    <tr>\n",
       "      <th>50%</th>\n",
       "      <td>30.000000</td>\n",
       "      <td>1.000000</td>\n",
       "      <td>16.000000</td>\n",
       "      <td>15.000000</td>\n",
       "      <td>21.000000</td>\n",
       "      <td>12.000000</td>\n",
       "    </tr>\n",
       "    <tr>\n",
       "      <th>75%</th>\n",
       "      <td>45.000000</td>\n",
       "      <td>1.000000</td>\n",
       "      <td>19.000000</td>\n",
       "      <td>19.000000</td>\n",
       "      <td>24.000000</td>\n",
       "      <td>15.000000</td>\n",
       "    </tr>\n",
       "    <tr>\n",
       "      <th>max</th>\n",
       "      <td>54.000000</td>\n",
       "      <td>1.000000</td>\n",
       "      <td>24.000000</td>\n",
       "      <td>28.000000</td>\n",
       "      <td>28.000000</td>\n",
       "      <td>31.000000</td>\n",
       "    </tr>\n",
       "  </tbody>\n",
       "</table>\n",
       "</div>"
      ],
      "text/plain": [
       "              age         sex     ipri_29     ipri_30     ipri_31     ipri_32\n",
       "count  677.000000  677.000000  677.000000  677.000000  677.000000  677.000000\n",
       "mean    32.324963    0.604136   15.877400   14.422452   20.404727   11.707533\n",
       "std     13.110167    0.489397    4.216554    6.009014    5.072420    5.204699\n",
       "min     13.000000    0.000000    3.000000    0.000000    0.000000    1.000000\n",
       "25%     21.000000    0.000000   13.000000   10.000000   17.000000    8.000000\n",
       "50%     30.000000    1.000000   16.000000   15.000000   21.000000   12.000000\n",
       "75%     45.000000    1.000000   19.000000   19.000000   24.000000   15.000000\n",
       "max     54.000000    1.000000   24.000000   28.000000   28.000000   31.000000"
      ]
     },
     "execution_count": 15,
     "metadata": {},
     "output_type": "execute_result"
    }
   ],
   "source": [
    "pheno_df.describe()"
   ]
  },
  {
   "cell_type": "markdown",
   "id": "b5307f6b-73c3-4df3-b6cd-c83079b94f61",
   "metadata": {
    "tags": []
   },
   "source": [
    "# modeling\n",
    "## data prep\n",
    "### X - fingerprint data"
   ]
  },
  {
   "cell_type": "code",
   "execution_count": 16,
   "id": "e1d1e242-5cd4-4e19-b43d-99ef0663c961",
   "metadata": {},
   "outputs": [],
   "source": [
    "# just the subjects\n",
    "subj1 = [x for x in list(matfile1.keys()) if \"sub\" in x and \"_\" not in x]\n",
    "subj2 = [x for x in list(matfile2.keys()) if \"sub\" in x and \"_\" not in x]"
   ]
  },
  {
   "cell_type": "code",
   "execution_count": 17,
   "id": "75f1db3c-c0cb-4655-b264-bf831cf2dde6",
   "metadata": {},
   "outputs": [
    {
     "data": {
      "text/plain": [
       "400"
      ]
     },
     "execution_count": 17,
     "metadata": {},
     "output_type": "execute_result"
    }
   ],
   "source": [
    "len(subj1)"
   ]
  },
  {
   "cell_type": "code",
   "execution_count": 18,
   "id": "9e5ba20f-26cf-4a82-9426-646fab5e81b0",
   "metadata": {},
   "outputs": [
    {
     "data": {
      "text/plain": [
       "277"
      ]
     },
     "execution_count": 18,
     "metadata": {},
     "output_type": "execute_result"
    }
   ],
   "source": [
    "len(subj2)"
   ]
  },
  {
   "cell_type": "code",
   "execution_count": 19,
   "id": "fad02ba9-399f-4e41-b9cd-fcad24167050",
   "metadata": {},
   "outputs": [],
   "source": [
    "X = []\n",
    "for sub in subj1:\n",
    "    X.append(matfile1[sub][0])\n",
    "for sub in subj2:\n",
    "    X.append(matfile2[sub][0])"
   ]
  },
  {
   "cell_type": "code",
   "execution_count": 20,
   "id": "ea3ada90-cb28-4ac4-a44b-92adf0657ef3",
   "metadata": {},
   "outputs": [
    {
     "data": {
      "text/plain": [
       "array([[0.13154687, 0.14433745, 0.1312975 , ..., 0.03943831, 0.02088308,\n",
       "        0.05409636],\n",
       "       [0.8178366 , 0.74562216, 0.72506034, ..., 0.34529442, 0.41764247,\n",
       "        0.56341   ],\n",
       "       [0.50131667, 0.47282678, 0.5085435 , ..., 0.1921919 , 0.2769494 ,\n",
       "        0.2239489 ],\n",
       "       ...,\n",
       "       [2.193593  , 1.8504024 , 2.1619565 , ..., 0.5081969 , 0.4759148 ,\n",
       "        0.6066462 ],\n",
       "       [0.2378414 , 0.17248623, 0.23666348, ..., 0.8264794 , 0.7652172 ,\n",
       "        0.7216453 ],\n",
       "       [0.32788658, 0.35372517, 0.36588156, ..., 0.14133348, 0.10620189,\n",
       "        0.06241945]], dtype=float32)"
      ]
     },
     "execution_count": 20,
     "metadata": {},
     "output_type": "execute_result"
    }
   ],
   "source": [
    "X = np.array(X)\n",
    "X"
   ]
  },
  {
   "cell_type": "code",
   "execution_count": 21,
   "id": "1ca27a9d-c617-4492-ace4-c00797ac4cee",
   "metadata": {},
   "outputs": [],
   "source": [
    "# already saved\n",
    "# dump(X, '../files/fingerprintX.joblib',compress=3) \n",
    "# dump(y, '../files/fingerprintY.joblib',compress=3) "
   ]
  },
  {
   "cell_type": "code",
   "execution_count": 22,
   "id": "6de56bd9-75f4-4205-a59f-d0a5440e71b1",
   "metadata": {},
   "outputs": [
    {
     "data": {
      "text/plain": [
       "319861"
      ]
     },
     "execution_count": 22,
     "metadata": {},
     "output_type": "execute_result"
    }
   ],
   "source": [
    "len(X[0])"
   ]
  },
  {
   "cell_type": "code",
   "execution_count": 23,
   "id": "9649a76c-ece3-4fae-ad3f-d98a8d362441",
   "metadata": {},
   "outputs": [],
   "source": [
    "# N_COMPONENTS = len(X)"
   ]
  },
  {
   "cell_type": "code",
   "execution_count": 24,
   "id": "ed6f9896-d49d-429f-b82d-2fec47a595c4",
   "metadata": {},
   "outputs": [],
   "source": [
    "# PCA is preferable but depending on the shape of the data i might use truncatedSVD\n",
    "# from sklearn.decomposition import PCA, TruncatedSVD"
   ]
  },
  {
   "cell_type": "code",
   "execution_count": 25,
   "id": "a7db696f-176f-4311-b036-fbd22aa8077d",
   "metadata": {},
   "outputs": [],
   "source": [
    "# pca = PCA(n_components=N_COMPONENTS, random_state=0)\n",
    "# X_pca = pca.fit_transform(X)"
   ]
  },
  {
   "cell_type": "code",
   "execution_count": 26,
   "id": "73a212de-07e6-43ff-8c42-b6210c83dafb",
   "metadata": {},
   "outputs": [],
   "source": [
    "# sweet\n",
    "# len(X_pca[0])"
   ]
  },
  {
   "cell_type": "code",
   "execution_count": 27,
   "id": "da941ee2-493c-46e4-810b-d587951ff3e1",
   "metadata": {},
   "outputs": [],
   "source": [
    "# dump(X_pca, '../files/fingerprintX_pca.joblib',compress=3) "
   ]
  },
  {
   "cell_type": "code",
   "execution_count": 28,
   "id": "e57ce8f5-83e4-46be-8b52-3f789098f35f",
   "metadata": {},
   "outputs": [],
   "source": [
    "X_pca = load('../files/fingerprintX_pca.joblib') "
   ]
  },
  {
   "cell_type": "markdown",
   "id": "a94fd5a0-3a42-431b-93d7-c9a3b1142059",
   "metadata": {},
   "source": [
    "### y(s) - pheno data"
   ]
  },
  {
   "cell_type": "code",
   "execution_count": 29,
   "id": "746a75eb-90e1-407a-976b-0f3416b47e36",
   "metadata": {},
   "outputs": [
    {
     "data": {
      "text/html": [
       "<div>\n",
       "<style scoped>\n",
       "    .dataframe tbody tr th:only-of-type {\n",
       "        vertical-align: middle;\n",
       "    }\n",
       "\n",
       "    .dataframe tbody tr th {\n",
       "        vertical-align: top;\n",
       "    }\n",
       "\n",
       "    .dataframe thead th {\n",
       "        text-align: right;\n",
       "    }\n",
       "</style>\n",
       "<table border=\"1\" class=\"dataframe\">\n",
       "  <thead>\n",
       "    <tr style=\"text-align: right;\">\n",
       "      <th></th>\n",
       "      <th>Identifiers_alt</th>\n",
       "      <th>age</th>\n",
       "      <th>sex</th>\n",
       "      <th>ipri_29</th>\n",
       "      <th>ipri_30</th>\n",
       "      <th>ipri_31</th>\n",
       "      <th>ipri_32</th>\n",
       "    </tr>\n",
       "  </thead>\n",
       "  <tbody>\n",
       "    <tr>\n",
       "      <th>0</th>\n",
       "      <td>sub-A00023510_ses-BAS1</td>\n",
       "      <td>23</td>\n",
       "      <td>0</td>\n",
       "      <td>17</td>\n",
       "      <td>21</td>\n",
       "      <td>19</td>\n",
       "      <td>17</td>\n",
       "    </tr>\n",
       "    <tr>\n",
       "      <th>1</th>\n",
       "      <td>sub-A00027439_ses-BAS1</td>\n",
       "      <td>15</td>\n",
       "      <td>0</td>\n",
       "      <td>17</td>\n",
       "      <td>11</td>\n",
       "      <td>14</td>\n",
       "      <td>8</td>\n",
       "    </tr>\n",
       "    <tr>\n",
       "      <th>2</th>\n",
       "      <td>sub-A00027443_ses-BAS1</td>\n",
       "      <td>15</td>\n",
       "      <td>0</td>\n",
       "      <td>11</td>\n",
       "      <td>9</td>\n",
       "      <td>16</td>\n",
       "      <td>5</td>\n",
       "    </tr>\n",
       "    <tr>\n",
       "      <th>3</th>\n",
       "      <td>sub-A00027544_ses-BAS1</td>\n",
       "      <td>22</td>\n",
       "      <td>0</td>\n",
       "      <td>22</td>\n",
       "      <td>19</td>\n",
       "      <td>24</td>\n",
       "      <td>16</td>\n",
       "    </tr>\n",
       "    <tr>\n",
       "      <th>4</th>\n",
       "      <td>sub-A00028150_ses-BAS1</td>\n",
       "      <td>44</td>\n",
       "      <td>1</td>\n",
       "      <td>12</td>\n",
       "      <td>18</td>\n",
       "      <td>19</td>\n",
       "      <td>17</td>\n",
       "    </tr>\n",
       "  </tbody>\n",
       "</table>\n",
       "</div>"
      ],
      "text/plain": [
       "          Identifiers_alt  age  sex  ipri_29  ipri_30  ipri_31  ipri_32\n",
       "0  sub-A00023510_ses-BAS1   23    0       17       21       19       17\n",
       "1  sub-A00027439_ses-BAS1   15    0       17       11       14        8\n",
       "2  sub-A00027443_ses-BAS1   15    0       11        9       16        5\n",
       "3  sub-A00027544_ses-BAS1   22    0       22       19       24       16\n",
       "4  sub-A00028150_ses-BAS1   44    1       12       18       19       17"
      ]
     },
     "execution_count": 29,
     "metadata": {},
     "output_type": "execute_result"
    }
   ],
   "source": [
    "pheno_df.head()"
   ]
  },
  {
   "cell_type": "code",
   "execution_count": 32,
   "id": "662474cc-55c0-435d-8484-8c4ce9dc6a32",
   "metadata": {},
   "outputs": [],
   "source": [
    "y_29 = np.array(pheno_df.ipri_29)\n",
    "y_30 = np.array(pheno_df.ipri_30)\n",
    "y_31 = np.array(pheno_df.ipri_31)\n",
    "y_32 = np.array(pheno_df.ipri_32)"
   ]
  },
  {
   "cell_type": "code",
   "execution_count": 33,
   "id": "f66967e2-c2b0-46aa-8be7-e685c3f2ac2f",
   "metadata": {},
   "outputs": [
    {
     "data": {
      "text/plain": [
       "['../files/fingerprinty_32.joblib']"
      ]
     },
     "execution_count": 33,
     "metadata": {},
     "output_type": "execute_result"
    }
   ],
   "source": [
    "dump(y_29, '../files/fingerprinty_29.joblib',compress=3) \n",
    "dump(y_30, '../files/fingerprinty_30.joblib',compress=3) \n",
    "dump(y_31, '../files/fingerprinty_31.joblib',compress=3) \n",
    "dump(y_32, '../files/fingerprinty_32.joblib',compress=3) "
   ]
  },
  {
   "cell_type": "markdown",
   "id": "ba851f3e-3fa0-4d60-8833-181eb866c249",
   "metadata": {},
   "source": [
    "## fitting prelim models"
   ]
  },
  {
   "cell_type": "code",
   "execution_count": 63,
   "id": "2aa4db84-1f44-4202-a008-3bc09ed1d9c4",
   "metadata": {},
   "outputs": [
    {
     "data": {
      "text/plain": [
       "677"
      ]
     },
     "execution_count": 63,
     "metadata": {},
     "output_type": "execute_result"
    }
   ],
   "source": [
    "len(X_pca)"
   ]
  },
  {
   "cell_type": "code",
   "execution_count": 65,
   "id": "05ef9165-60ef-4dab-a70b-1d5a14256060",
   "metadata": {},
   "outputs": [],
   "source": [
    "from sklearn.model_selection import train_test_split"
   ]
  },
  {
   "cell_type": "code",
   "execution_count": 66,
   "id": "e4cb45f7-31b7-41ff-86ac-d00dda480e16",
   "metadata": {},
   "outputs": [],
   "source": [
    "X_train29, X_test29, y_train29, y_test29 = train_test_split(\n",
    "  X_pca, y_29, test_size = 1/3, random_state = 0)\n",
    "  \n",
    "X_train30, X_test30, y_train30, y_test30 = train_test_split(\n",
    "  X_pca, y_30, test_size = 1/3, random_state = 0)\n",
    "  \n",
    "X_train31, X_test31, y_train31, y_test31 = train_test_split(\n",
    "  X_pca, y_31, test_size = 1/3, random_state = 0)\n",
    "  \n",
    "X_train32, X_test32, y_train32, y_test32 = train_test_split(\n",
    "  X_pca, y_32, test_size = 1/3, random_state = 0)"
   ]
  },
  {
   "cell_type": "code",
   "execution_count": 77,
   "id": "d845f002-bb04-4c7e-9f7b-1e7e6a809665",
   "metadata": {},
   "outputs": [],
   "source": [
    "from sklearn.metrics import make_scorer, mean_squared_error, r2_score\n",
    "from sklearn.model_selection import GridSearchCV\n",
    "from sklearn.svm import SVR\n",
    "from sklearn.linear_model import Ridge\n",
    "from sklearn.linear_model import Lasso\n",
    "from sklearn.linear_model import ElasticNet\n",
    "scorer = make_scorer(mean_squared_error, greater_is_better=False)"
   ]
  },
  {
   "cell_type": "markdown",
   "id": "fd4e59a8-2d8a-43ce-9c05-5a566090efb5",
   "metadata": {
    "tags": []
   },
   "source": [
    "### IPRI 29"
   ]
  },
  {
   "cell_type": "code",
   "execution_count": 90,
   "id": "6fe3fb72-6e5c-4db8-95fa-db257d3eedad",
   "metadata": {},
   "outputs": [],
   "source": [
    "fingerprint_29_gs = load('../files/fingerprint_29_gs_r2.joblib')"
   ]
  },
  {
   "cell_type": "code",
   "execution_count": 79,
   "id": "26b39e27-0291-4bca-8aa8-1ec1fe91de8c",
   "metadata": {},
   "outputs": [
    {
     "data": {
      "text/plain": [
       "{'model': GradientBoostingRegressor(learning_rate=0.001, max_depth=2, n_estimators=1000,\n",
       "                          n_iter_no_change=50, random_state=0), 'model__learning_rate': 0.001, 'model__max_depth': 2, 'model__n_estimators': 1000, 'model__n_iter_no_change': 50}"
      ]
     },
     "execution_count": 79,
     "metadata": {},
     "output_type": "execute_result"
    }
   ],
   "source": [
    "#svr_gs.cv_results_\n",
    "fingerprint_29_gs.best_params_"
   ]
  },
  {
   "cell_type": "code",
   "execution_count": 80,
   "id": "add7d718-c1d4-4b5d-a83f-0f6f9d2be85b",
   "metadata": {},
   "outputs": [],
   "source": [
    "means29 = fingerprint_29_gs.cv_results_[\"mean_test_score\"]\n",
    "stds29 = fingerprint_29_gs.cv_results_[\"std_test_score\"]\n",
    "results29 = sorted(list(zip(means29, stds29, fingerprint_29_gs.cv_results_[\"params\"])), \n",
    "                 key = lambda x: x[0], reverse=True)"
   ]
  },
  {
   "cell_type": "code",
   "execution_count": 81,
   "id": "106f1170-c90d-415c-99c5-e28ccd542c71",
   "metadata": {
    "tags": []
   },
   "outputs": [
    {
     "name": "stdout",
     "output_type": "stream",
     "text": [
      "0.003 (+/-0.023) for {'model': GradientBoostingRegressor(learning_rate=0.001, max_depth=2, n_estimators=1000,\n",
      "                          n_iter_no_change=50, random_state=0), 'model__learning_rate': 0.001, 'model__max_depth': 2, 'model__n_estimators': 1000, 'model__n_iter_no_change': 50}\n",
      "\n",
      "0.002 (+/-0.031) for {'model': ElasticNet(random_state=0), 'model__alpha': 100.0, 'model__l1_ratio': 0.1, 'model__selection': 'cyclic'}\n",
      "\n",
      "0.002 (+/-0.031) for {'model': ElasticNet(random_state=0), 'model__alpha': 100.0, 'model__l1_ratio': 0.1, 'model__selection': 'random'}\n",
      "\n",
      "0.001 (+/-0.011) for {'model': GradientBoostingRegressor(learning_rate=0.001, max_depth=2, n_estimators=1000,\n",
      "                          n_iter_no_change=50, random_state=0), 'model__learning_rate': 0.01, 'model__max_depth': 2, 'model__n_estimators': 10, 'model__n_iter_no_change': 50}\n",
      "\n",
      "0.000 (+/-0.010) for {'model': GradientBoostingRegressor(learning_rate=0.001, max_depth=2, n_estimators=1000,\n",
      "                          n_iter_no_change=50, random_state=0), 'model__learning_rate': 0.001, 'model__max_depth': 2, 'model__n_estimators': 100, 'model__n_iter_no_change': 50}\n",
      "\n",
      "-0.000 (+/-0.001) for {'model': GradientBoostingRegressor(learning_rate=0.001, max_depth=2, n_estimators=1000,\n",
      "                          n_iter_no_change=50, random_state=0), 'model__learning_rate': 0.001, 'model__max_depth': 2, 'model__n_estimators': 10, 'model__n_iter_no_change': 50}\n",
      "\n",
      "-0.000 (+/-0.001) for {'model': ElasticNet(random_state=0), 'model__alpha': 100.0, 'model__l1_ratio': 1.0, 'model__selection': 'cyclic'}\n",
      "\n",
      "-0.000 (+/-0.001) for {'model': ElasticNet(random_state=0), 'model__alpha': 100.0, 'model__l1_ratio': 1.0, 'model__selection': 'random'}\n",
      "\n",
      "-0.000 (+/-0.002) for {'model': GradientBoostingRegressor(learning_rate=0.001, max_depth=2, n_estimators=1000,\n",
      "                          n_iter_no_change=50, random_state=0), 'model__learning_rate': 0.001, 'model__max_depth': 4, 'model__n_estimators': 10, 'model__n_iter_no_change': 50}\n",
      "\n",
      "-0.001 (+/-0.002) for {'model': GradientBoostingRegressor(learning_rate=0.001, max_depth=2, n_estimators=1000,\n",
      "                          n_iter_no_change=50, random_state=0), 'model__learning_rate': 0.001, 'model__max_depth': 6, 'model__n_estimators': 10, 'model__n_iter_no_change': 50}\n",
      "\n"
     ]
    }
   ],
   "source": [
    "for mean, std, params in results29[:10]:\n",
    "    print(\"%0.3f (+/-%0.03f) for %r\" % (mean, std * 2, params))\n",
    "    print()"
   ]
  },
  {
   "cell_type": "code",
   "execution_count": 84,
   "id": "b838fb7e-4523-4bb6-82d2-f5a52e1caacd",
   "metadata": {},
   "outputs": [],
   "source": [
    "labels29 = fingerprint_29_gs.predict(X_test29)"
   ]
  },
  {
   "cell_type": "code",
   "execution_count": 85,
   "id": "d62f4969-6fbe-4c27-b55d-7d7b8dcab549",
   "metadata": {},
   "outputs": [
    {
     "data": {
      "text/plain": [
       "0.0014816375233402956"
      ]
     },
     "execution_count": 85,
     "metadata": {},
     "output_type": "execute_result"
    }
   ],
   "source": [
    "r2_score(y_test29, labels29)"
   ]
  },
  {
   "cell_type": "markdown",
   "id": "183dd82a-92af-481c-84ce-090ca2d5ced4",
   "metadata": {},
   "source": [
    "### IPRI 30"
   ]
  },
  {
   "cell_type": "code",
   "execution_count": 91,
   "id": "a04111bf-b7d7-4fbd-aa85-f92cad5f6795",
   "metadata": {},
   "outputs": [],
   "source": [
    "fingerprint_30_gs_r2 = load('../files/fingerprint_30_gs_r2.joblib')\n",
    "fingerprint_30_gs_mse = load('../files/fingerprint_30_gs.joblib')"
   ]
  },
  {
   "cell_type": "code",
   "execution_count": 105,
   "id": "b0288dac-0aeb-458f-ba03-2b86e558398f",
   "metadata": {},
   "outputs": [
    {
     "name": "stdout",
     "output_type": "stream",
     "text": [
      "{'model': GradientBoostingRegressor(learning_rate=0.01, max_depth=2, n_iter_no_change=50,\n",
      "                          random_state=0), 'model__learning_rate': 0.01, 'model__max_depth': 2, 'model__n_estimators': 100, 'model__n_iter_no_change': 50}\n",
      "{'model': GradientBoostingRegressor(learning_rate=0.01, max_depth=2, n_iter_no_change=50,\n",
      "                          random_state=0), 'model__learning_rate': 0.01, 'model__max_depth': 2, 'model__n_estimators': 100, 'model__n_iter_no_change': 50}\n"
     ]
    }
   ],
   "source": [
    "print(fingerprint_30_gs_r2.best_params_)\n",
    "print(fingerprint_30_gs_mse.best_params_)"
   ]
  },
  {
   "cell_type": "code",
   "execution_count": 106,
   "id": "ca3f2469-8a52-4925-a9da-c3504dc13b91",
   "metadata": {},
   "outputs": [],
   "source": [
    "means30 = fingerprint_30_gs_r2.cv_results_[\"mean_test_score\"]\n",
    "stds30 = fingerprint_30_gs_r2.cv_results_[\"std_test_score\"]\n",
    "results30 = sorted(list(zip(means30, stds30, fingerprint_30_gs_r2.cv_results_[\"params\"])), \n",
    "                 key = lambda x: x[0],reverse=True)"
   ]
  },
  {
   "cell_type": "code",
   "execution_count": 107,
   "id": "16407bbf-51d6-47de-8c2f-69aa4c830a2e",
   "metadata": {
    "tags": []
   },
   "outputs": [
    {
     "name": "stdout",
     "output_type": "stream",
     "text": [
      "0.003 (+/-0.020) for {'model': GradientBoostingRegressor(learning_rate=0.01, max_depth=2, n_iter_no_change=50,\n",
      "                          random_state=0), 'model__learning_rate': 0.01, 'model__max_depth': 2, 'model__n_estimators': 100, 'model__n_iter_no_change': 50}\n",
      "\n",
      "0.003 (+/-0.020) for {'model': GradientBoostingRegressor(learning_rate=0.01, max_depth=2, n_iter_no_change=50,\n",
      "                          random_state=0), 'model__learning_rate': 0.01, 'model__max_depth': 2, 'model__n_estimators': 1000, 'model__n_iter_no_change': 50}\n",
      "\n",
      "0.001 (+/-0.009) for {'model': GradientBoostingRegressor(learning_rate=0.01, max_depth=2, n_iter_no_change=50,\n",
      "                          random_state=0), 'model__learning_rate': 0.001, 'model__max_depth': 2, 'model__n_estimators': 1000, 'model__n_iter_no_change': 50}\n",
      "\n",
      "-0.000 (+/-0.004) for {'model': GradientBoostingRegressor(learning_rate=0.01, max_depth=2, n_iter_no_change=50,\n",
      "                          random_state=0), 'model__learning_rate': 0.01, 'model__max_depth': 2, 'model__n_estimators': 10, 'model__n_iter_no_change': 50}\n",
      "\n",
      "-0.001 (+/-0.006) for {'model': GradientBoostingRegressor(learning_rate=0.01, max_depth=2, n_iter_no_change=50,\n",
      "                          random_state=0), 'model__learning_rate': 0.001, 'model__max_depth': 2, 'model__n_estimators': 100, 'model__n_iter_no_change': 50}\n",
      "\n",
      "-0.001 (+/-0.026) for {'model': GradientBoostingRegressor(learning_rate=0.01, max_depth=2, n_iter_no_change=50,\n",
      "                          random_state=0), 'model__learning_rate': 0.1, 'model__max_depth': 2, 'model__n_estimators': 10, 'model__n_iter_no_change': 50}\n",
      "\n",
      "-0.004 (+/-0.007) for {'model': GradientBoostingRegressor(learning_rate=0.01, max_depth=2, n_iter_no_change=50,\n",
      "                          random_state=0), 'model__learning_rate': 0.001, 'model__max_depth': 2, 'model__n_estimators': 10, 'model__n_iter_no_change': 50}\n",
      "\n",
      "-0.004 (+/-0.006) for {'model': GradientBoostingRegressor(learning_rate=0.01, max_depth=2, n_iter_no_change=50,\n",
      "                          random_state=0), 'model__learning_rate': 0.001, 'model__max_depth': 4, 'model__n_estimators': 10, 'model__n_iter_no_change': 50}\n",
      "\n",
      "-0.004 (+/-0.006) for {'model': ElasticNet(random_state=0), 'model__alpha': 100.0, 'model__l1_ratio': 1.0, 'model__selection': 'cyclic'}\n",
      "\n",
      "-0.004 (+/-0.006) for {'model': ElasticNet(random_state=0), 'model__alpha': 100.0, 'model__l1_ratio': 1.0, 'model__selection': 'random'}\n",
      "\n"
     ]
    }
   ],
   "source": [
    "for mean, std, params in results30[:10]:\n",
    "    print(\"%0.3f (+/-%0.03f) for %r\" % (mean, std * 2, params))\n",
    "    print()"
   ]
  },
  {
   "cell_type": "code",
   "execution_count": 103,
   "id": "0a87392d-843e-4faa-9422-52ec187a302c",
   "metadata": {},
   "outputs": [],
   "source": [
    "labels30 = fingerprint_30_gs_r2.predict(X_test30)"
   ]
  },
  {
   "cell_type": "code",
   "execution_count": 104,
   "id": "b964faed-a63d-42ca-a124-9c321823f524",
   "metadata": {},
   "outputs": [
    {
     "data": {
      "text/plain": [
       "-0.01939400737556385"
      ]
     },
     "execution_count": 104,
     "metadata": {},
     "output_type": "execute_result"
    }
   ],
   "source": [
    "r2_score(y_test30, labels30)"
   ]
  },
  {
   "cell_type": "markdown",
   "id": "088a6699-4f08-478d-b8a0-63955ed3e899",
   "metadata": {},
   "source": [
    "### IPRI 31"
   ]
  },
  {
   "cell_type": "code",
   "execution_count": 100,
   "id": "45600e3a-68a7-4ff4-bc9d-e969e0790287",
   "metadata": {},
   "outputs": [],
   "source": [
    "fingerprint_31_gs_r2 = load('../files/fingerprint_31_gs_r2.joblib')\n",
    "fingerprint_31_gs_mse = load('../files/fingerprint_31_gs.joblib')"
   ]
  },
  {
   "cell_type": "code",
   "execution_count": 101,
   "id": "59def8b9-0859-4bef-a88b-9f9bbf311fda",
   "metadata": {},
   "outputs": [
    {
     "name": "stdout",
     "output_type": "stream",
     "text": [
      "{'model': ElasticNet(alpha=100.0, l1_ratio=0.1, random_state=0), 'model__alpha': 100.0, 'model__l1_ratio': 0.1, 'model__selection': 'cyclic'}\n",
      "{'model': ElasticNet(alpha=100.0, l1_ratio=0.1, random_state=0), 'model__alpha': 100.0, 'model__l1_ratio': 0.1, 'model__selection': 'cyclic'}\n"
     ]
    }
   ],
   "source": [
    "print(fingerprint_31_gs_r2.best_params_)\n",
    "print(fingerprint_31_gs_mse.best_params_)"
   ]
  },
  {
   "cell_type": "code",
   "execution_count": 109,
   "id": "8a9d0615-2f8f-48dd-a70a-cde09760d29f",
   "metadata": {},
   "outputs": [],
   "source": [
    "means31 = fingerprint_31_gs_r2.cv_results_[\"mean_test_score\"]\n",
    "stds31 = fingerprint_31_gs_r2.cv_results_[\"std_test_score\"]\n",
    "results31 = sorted(list(zip(means31, stds31, fingerprint_31_gs_r2.cv_results_[\"params\"])), \n",
    "                 key = lambda x: x[0],reverse=True)"
   ]
  },
  {
   "cell_type": "code",
   "execution_count": 110,
   "id": "6dd39995-220e-4379-833e-c1d8fda0a202",
   "metadata": {
    "tags": []
   },
   "outputs": [
    {
     "name": "stdout",
     "output_type": "stream",
     "text": [
      "0.015 (+/-0.006) for {'model': ElasticNet(alpha=100.0, l1_ratio=0.1, random_state=0), 'model__alpha': 100.0, 'model__l1_ratio': 0.1, 'model__selection': 'cyclic'}\n",
      "\n",
      "0.015 (+/-0.006) for {'model': ElasticNet(alpha=100.0, l1_ratio=0.1, random_state=0), 'model__alpha': 100.0, 'model__l1_ratio': 0.1, 'model__selection': 'random'}\n",
      "\n",
      "-0.006 (+/-0.010) for {'model': ElasticNet(alpha=100.0, l1_ratio=0.1, random_state=0), 'model__alpha': 100.0, 'model__l1_ratio': 1.0, 'model__selection': 'cyclic'}\n",
      "\n",
      "-0.006 (+/-0.010) for {'model': ElasticNet(alpha=100.0, l1_ratio=0.1, random_state=0), 'model__alpha': 100.0, 'model__l1_ratio': 1.0, 'model__selection': 'random'}\n",
      "\n",
      "-0.007 (+/-0.010) for {'model': GradientBoostingRegressor(learning_rate=0.01, max_depth=2, n_iter_no_change=50,\n",
      "                          random_state=0), 'model__learning_rate': 0.001, 'model__max_depth': 6, 'model__n_estimators': 10, 'model__n_iter_no_change': 50}\n",
      "\n",
      "-0.007 (+/-0.008) for {'model': GradientBoostingRegressor(learning_rate=0.01, max_depth=2, n_iter_no_change=50,\n",
      "                          random_state=0), 'model__learning_rate': 0.001, 'model__max_depth': 2, 'model__n_estimators': 10, 'model__n_iter_no_change': 50}\n",
      "\n",
      "-0.007 (+/-0.009) for {'model': GradientBoostingRegressor(learning_rate=0.01, max_depth=2, n_iter_no_change=50,\n",
      "                          random_state=0), 'model__learning_rate': 0.001, 'model__max_depth': 4, 'model__n_estimators': 10, 'model__n_iter_no_change': 50}\n",
      "\n",
      "-0.009 (+/-0.024) for {'model': GradientBoostingRegressor(learning_rate=0.01, max_depth=2, n_iter_no_change=50,\n",
      "                          random_state=0), 'model__learning_rate': 0.001, 'model__max_depth': 6, 'model__n_estimators': 100, 'model__n_iter_no_change': 50}\n",
      "\n",
      "-0.011 (+/-0.012) for {'model': GradientBoostingRegressor(learning_rate=0.01, max_depth=2, n_iter_no_change=50,\n",
      "                          random_state=0), 'model__learning_rate': 0.001, 'model__max_depth': 2, 'model__n_estimators': 1000, 'model__n_iter_no_change': 50}\n",
      "\n",
      "-0.011 (+/-0.012) for {'model': GradientBoostingRegressor(learning_rate=0.01, max_depth=2, n_iter_no_change=50,\n",
      "                          random_state=0), 'model__learning_rate': 0.001, 'model__max_depth': 2, 'model__n_estimators': 100, 'model__n_iter_no_change': 50}\n",
      "\n"
     ]
    }
   ],
   "source": [
    "for mean, std, params in results31[:10]:\n",
    "    print(\"%0.3f (+/-%0.03f) for %r\" % (mean, std * 2, params))\n",
    "    print()"
   ]
  },
  {
   "cell_type": "code",
   "execution_count": 111,
   "id": "a1820786-7dbf-4b2f-a289-202339cc2196",
   "metadata": {},
   "outputs": [],
   "source": [
    "labels31 = fingerprint_31_gs_r2.predict(X_test31)"
   ]
  },
  {
   "cell_type": "code",
   "execution_count": 112,
   "id": "5ec8e8ca-8e65-4954-bf6e-7801367da3c2",
   "metadata": {},
   "outputs": [
    {
     "data": {
      "text/plain": [
       "0.010381474692126469"
      ]
     },
     "execution_count": 112,
     "metadata": {},
     "output_type": "execute_result"
    }
   ],
   "source": [
    "r2_score(y_test31, labels31)"
   ]
  },
  {
   "cell_type": "markdown",
   "id": "014d9144-b3f3-45e5-aefb-10a8c77e2b10",
   "metadata": {},
   "source": [
    "### IPRI 32"
   ]
  },
  {
   "cell_type": "code",
   "execution_count": 113,
   "id": "8ccf4b0b-cc12-4713-b279-0c0c4d734384",
   "metadata": {},
   "outputs": [],
   "source": [
    "fingerprint_32_gs_r2 = load('../files/fingerprint_32_gs_r2.joblib')\n",
    "fingerprint_32_gs_mse = load('../files/fingerprint_32_gs.joblib')"
   ]
  },
  {
   "cell_type": "code",
   "execution_count": 114,
   "id": "ed13fd94-9262-4765-b573-a96101eabad5",
   "metadata": {},
   "outputs": [
    {
     "name": "stdout",
     "output_type": "stream",
     "text": [
      "{'model': GradientBoostingRegressor(learning_rate=0.001, max_depth=6, n_estimators=1000,\n",
      "                          n_iter_no_change=50, random_state=0), 'model__learning_rate': 0.001, 'model__max_depth': 6, 'model__n_estimators': 1000, 'model__n_iter_no_change': 50}\n",
      "{'model': GradientBoostingRegressor(learning_rate=0.001, max_depth=6, n_estimators=1000,\n",
      "                          n_iter_no_change=50, random_state=0), 'model__learning_rate': 0.001, 'model__max_depth': 6, 'model__n_estimators': 1000, 'model__n_iter_no_change': 50}\n"
     ]
    }
   ],
   "source": [
    "print(fingerprint_32_gs_r2.best_params_)\n",
    "print(fingerprint_32_gs_mse.best_params_)"
   ]
  },
  {
   "cell_type": "code",
   "execution_count": 115,
   "id": "5ad58d56-359d-485f-aed1-710adaa0827d",
   "metadata": {},
   "outputs": [],
   "source": [
    "means32 = fingerprint_32_gs_r2.cv_results_[\"mean_test_score\"]\n",
    "stds32 = fingerprint_32_gs_r2.cv_results_[\"std_test_score\"]\n",
    "results32 = sorted(list(zip(means32, stds32, fingerprint_32_gs_r2.cv_results_[\"params\"])), \n",
    "                 key = lambda x: x[0],reverse=True)"
   ]
  },
  {
   "cell_type": "code",
   "execution_count": 116,
   "id": "4d6942c7-1b25-418d-9ef7-ef179415ff19",
   "metadata": {
    "tags": []
   },
   "outputs": [
    {
     "name": "stdout",
     "output_type": "stream",
     "text": [
      "-0.011 (+/-0.047) for {'model': GradientBoostingRegressor(learning_rate=0.001, max_depth=6, n_estimators=1000,\n",
      "                          n_iter_no_change=50, random_state=0), 'model__learning_rate': 0.001, 'model__max_depth': 6, 'model__n_estimators': 1000, 'model__n_iter_no_change': 50}\n",
      "\n",
      "-0.013 (+/-0.043) for {'model': GradientBoostingRegressor(learning_rate=0.001, max_depth=6, n_estimators=1000,\n",
      "                          n_iter_no_change=50, random_state=0), 'model__learning_rate': 0.001, 'model__max_depth': 6, 'model__n_estimators': 100, 'model__n_iter_no_change': 50}\n",
      "\n",
      "-0.018 (+/-0.048) for {'model': GradientBoostingRegressor(learning_rate=0.001, max_depth=6, n_estimators=1000,\n",
      "                          n_iter_no_change=50, random_state=0), 'model__learning_rate': 0.01, 'model__max_depth': 6, 'model__n_estimators': 10, 'model__n_iter_no_change': 50}\n",
      "\n",
      "-0.018 (+/-0.025) for {'model': ElasticNet(alpha=100.0, l1_ratio=0.1, random_state=0), 'model__alpha': 100.0, 'model__l1_ratio': 1.0, 'model__selection': 'cyclic'}\n",
      "\n",
      "-0.018 (+/-0.025) for {'model': ElasticNet(alpha=100.0, l1_ratio=0.1, random_state=0), 'model__alpha': 100.0, 'model__l1_ratio': 1.0, 'model__selection': 'random'}\n",
      "\n",
      "-0.018 (+/-0.041) for {'model': GradientBoostingRegressor(learning_rate=0.001, max_depth=6, n_estimators=1000,\n",
      "                          n_iter_no_change=50, random_state=0), 'model__learning_rate': 0.001, 'model__max_depth': 4, 'model__n_estimators': 1000, 'model__n_iter_no_change': 50}\n",
      "\n",
      "-0.019 (+/-0.039) for {'model': GradientBoostingRegressor(learning_rate=0.001, max_depth=6, n_estimators=1000,\n",
      "                          n_iter_no_change=50, random_state=0), 'model__learning_rate': 0.001, 'model__max_depth': 4, 'model__n_estimators': 100, 'model__n_iter_no_change': 50}\n",
      "\n",
      "-0.020 (+/-0.027) for {'model': GradientBoostingRegressor(learning_rate=0.001, max_depth=6, n_estimators=1000,\n",
      "                          n_iter_no_change=50, random_state=0), 'model__learning_rate': 0.01, 'model__max_depth': 2, 'model__n_estimators': 10, 'model__n_iter_no_change': 50}\n",
      "\n",
      "-0.020 (+/-0.030) for {'model': GradientBoostingRegressor(learning_rate=0.001, max_depth=6, n_estimators=1000,\n",
      "                          n_iter_no_change=50, random_state=0), 'model__learning_rate': 0.001, 'model__max_depth': 6, 'model__n_estimators': 10, 'model__n_iter_no_change': 50}\n",
      "\n",
      "-0.020 (+/-0.028) for {'model': GradientBoostingRegressor(learning_rate=0.001, max_depth=6, n_estimators=1000,\n",
      "                          n_iter_no_change=50, random_state=0), 'model__learning_rate': 0.001, 'model__max_depth': 2, 'model__n_estimators': 100, 'model__n_iter_no_change': 50}\n",
      "\n"
     ]
    }
   ],
   "source": [
    "for mean, std, params in results32[:10]:\n",
    "    print(\"%0.3f (+/-%0.03f) for %r\" % (mean, std * 2, params))\n",
    "    print()"
   ]
  },
  {
   "cell_type": "code",
   "execution_count": 111,
   "id": "8440d03a-60ab-41ec-97ae-233ad6cb8ac9",
   "metadata": {},
   "outputs": [],
   "source": [
    "labels32 = fingerprint_32_gs_r2.predict(X_test31)"
   ]
  },
  {
   "cell_type": "code",
   "execution_count": 112,
   "id": "ed6c68f6-8626-4781-9a16-af380869e6c6",
   "metadata": {},
   "outputs": [
    {
     "data": {
      "text/plain": [
       "0.010381474692126469"
      ]
     },
     "execution_count": 112,
     "metadata": {},
     "output_type": "execute_result"
    }
   ],
   "source": [
    "r2_score(y_test31, labels31)"
   ]
  },
  {
   "cell_type": "code",
   "execution_count": null,
   "id": "5aa7ee1e-5b35-411f-b3a9-eb7ac66ee5ad",
   "metadata": {},
   "outputs": [],
   "source": []
  },
  {
   "cell_type": "code",
   "execution_count": null,
   "id": "c1fd8769-84e7-41fb-9a52-0df62d101b43",
   "metadata": {},
   "outputs": [],
   "source": []
  },
  {
   "cell_type": "code",
   "execution_count": null,
   "id": "664b8657-ce13-48d0-856d-8c2e76bdfabc",
   "metadata": {},
   "outputs": [],
   "source": []
  },
  {
   "cell_type": "code",
   "execution_count": null,
   "id": "7e606b58-93bf-444b-a13f-a3d6e170a831",
   "metadata": {},
   "outputs": [],
   "source": []
  },
  {
   "cell_type": "code",
   "execution_count": null,
   "id": "a0953abb-84c9-4b61-853a-f53d3c0fd96c",
   "metadata": {},
   "outputs": [],
   "source": []
  },
  {
   "cell_type": "code",
   "execution_count": null,
   "id": "9ab897d3-3448-4121-87b6-0631cf6369c4",
   "metadata": {},
   "outputs": [],
   "source": []
  },
  {
   "cell_type": "code",
   "execution_count": null,
   "id": "ca39855d-92e8-4ca5-8003-35edaeac6365",
   "metadata": {},
   "outputs": [],
   "source": []
  },
  {
   "cell_type": "code",
   "execution_count": 83,
   "id": "37ecc41f-f9df-4e7f-8ef3-6589190019e6",
   "metadata": {},
   "outputs": [],
   "source": [
    "#all_labels = model.predict(X_pca)"
   ]
  },
  {
   "cell_type": "code",
   "execution_count": 84,
   "id": "20f5a5ca-f015-43fb-8cc2-ea832bea879b",
   "metadata": {},
   "outputs": [],
   "source": [
    "#pheno_df[\"pred_age\"]=all_labels"
   ]
  },
  {
   "cell_type": "code",
   "execution_count": 85,
   "id": "735f66f4-6fd0-4e12-b4ac-e5edd096837a",
   "metadata": {},
   "outputs": [],
   "source": [
    "#pheno_df.head()"
   ]
  },
  {
   "cell_type": "code",
   "execution_count": 86,
   "id": "54e2efa2-a436-49df-a014-f816b1742d49",
   "metadata": {},
   "outputs": [],
   "source": [
    "#sns.relplot(x=\"age\",y=\"pred_age\", data=pheno_df)"
   ]
  },
  {
   "cell_type": "code",
   "execution_count": 87,
   "id": "501b200f-26ba-4d12-8469-15a22b2fb852",
   "metadata": {},
   "outputs": [],
   "source": [
    "from sklearn.metrics import make_scorer, mean_squared_error\n",
    "from sklearn.model_selection import GridSearchCV\n",
    "from sklearn.svm import SVR\n",
    "from sklearn.linear_model import Ridge\n",
    "from sklearn.linear_model import Lasso\n",
    "from sklearn.linear_model import ElasticNet\n",
    "scorer = make_scorer(mean_squared_error, greater_is_better=False)"
   ]
  },
  {
   "cell_type": "code",
   "execution_count": 91,
   "id": "704e5dd8-60f6-42db-9e10-46d120542af2",
   "metadata": {},
   "outputs": [
    {
     "data": {
      "text/plain": [
       "make_scorer(mean_squared_error, greater_is_better=False)"
      ]
     },
     "execution_count": 91,
     "metadata": {},
     "output_type": "execute_result"
    }
   ],
   "source": [
    "all_gs.scoring"
   ]
  },
  {
   "cell_type": "code",
   "execution_count": 119,
   "id": "e8ede451-2b09-4b3b-a970-fa1e24dbd0df",
   "metadata": {},
   "outputs": [
    {
     "data": {
      "text/plain": [
       "{'model': Ridge(), 'model__alpha': 1.0, 'model__random_state': 0, 'model__solver': 'saga'}"
      ]
     },
     "execution_count": 119,
     "metadata": {},
     "output_type": "execute_result"
    }
   ],
   "source": [
    "results[9][2]"
   ]
  },
  {
   "cell_type": "code",
   "execution_count": 34,
   "id": "46ec3920-ca06-4e4b-9df5-8946f73a2790",
   "metadata": {},
   "outputs": [
    {
     "data": {
      "text/plain": [
       "array([  10.,  100., 1000.])"
      ]
     },
     "execution_count": 34,
     "metadata": {},
     "output_type": "execute_result"
    }
   ],
   "source": [
    "np.logspace(1,3,3)"
   ]
  },
  {
   "cell_type": "code",
   "execution_count": 120,
   "id": "44ee6a96-10b2-46d2-9caa-984eb79c83cd",
   "metadata": {},
   "outputs": [],
   "source": [
    "model1 = ElasticNet(l1_ratio=0.01, random_state=0, alpha=1.0, selection='cyclic')\n",
    "model2 = ElasticNet(l1_ratio=0.01, random_state=0, alpha=1.0, selection='random')\n",
    "model3 = ElasticNet(l1_ratio=0.1, random_state=0, alpha=1.0, selection='cyclic')\n",
    "model4 = ElasticNet(l1_ratio=0.1, random_state=0, alpha=1.0, selection='random')\n",
    "model5 = ElasticNet(l1_ratio=0.001, random_state=0, alpha=1.0, selection='cyclic')\n",
    "model6 = ElasticNet(l1_ratio=0.1, random_state=0, alpha=0.01, selection='cyclic')\n",
    "model7 = ElasticNet(l1_ratio=0.001, random_state=0, alpha=1.0, selection='random')\n",
    "model8 = Ridge(alpha=1.0, random_state=0,solver='lsqr')\n",
    "model9 = Ridge(alpha=0.0001, random_state=0,solver='saga')\n",
    "model10 = Ridge(alpha=1.0, random_state=0,solver='saga')"
   ]
  },
  {
   "cell_type": "code",
   "execution_count": 122,
   "id": "d7547579-9c42-43b0-a414-3dd181f5dbbf",
   "metadata": {},
   "outputs": [
    {
     "name": "stderr",
     "output_type": "stream",
     "text": [
      "/Users/evb32/opt/anaconda3/lib/python3.8/site-packages/sklearn/linear_model/_coordinate_descent.py:530: ConvergenceWarning: Objective did not converge. You might want to increase the number of iterations. Duality gap: 26.131092071533203, tolerance: 7.779956817626953\n",
      "  model = cd_fast.enet_coordinate_descent(\n"
     ]
    },
    {
     "data": {
      "text/plain": [
       "Ridge(random_state=0, solver='saga')"
      ]
     },
     "execution_count": 122,
     "metadata": {},
     "output_type": "execute_result"
    }
   ],
   "source": [
    "model1.fit(X_train,y_train)\n",
    "model2.fit(X_train,y_train)\n",
    "model3.fit(X_train,y_train)\n",
    "model4.fit(X_train,y_train)\n",
    "model5.fit(X_train,y_train)\n",
    "model6.fit(X_train,y_train)\n",
    "model7.fit(X_train,y_train)\n",
    "model8.fit(X_train,y_train)\n",
    "model9.fit(X_train,y_train)\n",
    "model10.fit(X_train,y_train)"
   ]
  },
  {
   "cell_type": "code",
   "execution_count": 125,
   "id": "9bca88d4-c62e-45b2-8dd6-e6e1f27cb16e",
   "metadata": {},
   "outputs": [
    {
     "data": {
      "text/plain": [
       "{'alpha': 1.0, 'copy_X': True, 'fit_intercept': True, 'l1_ratio': 0.01, 'max_iter': 1000, 'normalize': False, 'positive': False, 'precompute': False, 'random_state': 0, 'selection': 'cyclic', 'tol': 0.0001, 'warm_start': False}"
      ]
     },
     "execution_count": 125,
     "metadata": {},
     "output_type": "execute_result"
    }
   ],
   "source": [
    "model1.get_params()"
   ]
  },
  {
   "cell_type": "code",
   "execution_count": 126,
   "id": "6cd9cb7c-f228-4983-bc34-f2fc1b4bc1cc",
   "metadata": {},
   "outputs": [
    {
     "name": "stdout",
     "output_type": "stream",
     "text": [
      "{'alpha': 1.0, 'copy_X': True, 'fit_intercept': True, 'l1_ratio': 0.01, 'max_iter': 1000, 'normalize': False, 'positive': False, 'precompute': False, 'random_state': 0, 'selection': 'cyclic', 'tol': 0.0001, 'warm_start': False}\n",
      "0.7915343965610114\n",
      "\n",
      "{'alpha': 1.0, 'copy_X': True, 'fit_intercept': True, 'l1_ratio': 0.01, 'max_iter': 1000, 'normalize': False, 'positive': False, 'precompute': False, 'random_state': 0, 'selection': 'random', 'tol': 0.0001, 'warm_start': False}\n",
      "0.7902410956058957\n",
      "\n",
      "{'alpha': 1.0, 'copy_X': True, 'fit_intercept': True, 'l1_ratio': 0.1, 'max_iter': 1000, 'normalize': False, 'positive': False, 'precompute': False, 'random_state': 0, 'selection': 'cyclic', 'tol': 0.0001, 'warm_start': False}\n",
      "0.7382594450329123\n",
      "\n",
      "{'alpha': 1.0, 'copy_X': True, 'fit_intercept': True, 'l1_ratio': 0.1, 'max_iter': 1000, 'normalize': False, 'positive': False, 'precompute': False, 'random_state': 0, 'selection': 'random', 'tol': 0.0001, 'warm_start': False}\n",
      "0.7369658805949687\n",
      "\n",
      "{'alpha': 1.0, 'copy_X': True, 'fit_intercept': True, 'l1_ratio': 0.001, 'max_iter': 1000, 'normalize': False, 'positive': False, 'precompute': False, 'random_state': 0, 'selection': 'cyclic', 'tol': 0.0001, 'warm_start': False}\n",
      "0.794304973230002\n",
      "\n",
      "{'alpha': 0.01, 'copy_X': True, 'fit_intercept': True, 'l1_ratio': 0.1, 'max_iter': 1000, 'normalize': False, 'positive': False, 'precompute': False, 'random_state': 0, 'selection': 'cyclic', 'tol': 0.0001, 'warm_start': False}\n",
      "0.7831343718968278\n",
      "\n",
      "{'alpha': 1.0, 'copy_X': True, 'fit_intercept': True, 'l1_ratio': 0.001, 'max_iter': 1000, 'normalize': False, 'positive': False, 'precompute': False, 'random_state': 0, 'selection': 'random', 'tol': 0.0001, 'warm_start': False}\n",
      "0.7939055423770787\n",
      "\n",
      "{'alpha': 1.0, 'copy_X': True, 'fit_intercept': True, 'max_iter': None, 'normalize': False, 'random_state': 0, 'solver': 'lsqr', 'tol': 0.001}\n",
      "0.7931964057448841\n",
      "\n",
      "{'alpha': 0.0001, 'copy_X': True, 'fit_intercept': True, 'max_iter': None, 'normalize': False, 'random_state': 0, 'solver': 'saga', 'tol': 0.001}\n",
      "0.7930593270481449\n",
      "\n",
      "{'alpha': 1.0, 'copy_X': True, 'fit_intercept': True, 'max_iter': None, 'normalize': False, 'random_state': 0, 'solver': 'saga', 'tol': 0.001}\n",
      "0.793059027121321\n",
      "\n"
     ]
    }
   ],
   "source": [
    "for x in [model1, model2, model3, model4, model5, model6, model7, model8, model9, model10]:\n",
    "    y_true, y_pred = y_test, x.predict(X_test)\n",
    "    print(x.get_params())\n",
    "    print(r2_score(y_true, y_pred))\n",
    "    print()"
   ]
  },
  {
   "cell_type": "code",
   "execution_count": 59,
   "id": "480788cf-8198-40fd-b101-2fa5f9a1312b",
   "metadata": {},
   "outputs": [],
   "source": [
    "y_true, y_pred = y_test, all_gs.predict(X_test)"
   ]
  },
  {
   "cell_type": "code",
   "execution_count": 71,
   "id": "d3776298-ad36-4efd-8812-f7801b53b17c",
   "metadata": {},
   "outputs": [
    {
     "data": {
      "text/plain": [
       "0.7915343965610114"
      ]
     },
     "execution_count": 71,
     "metadata": {},
     "output_type": "execute_result"
    }
   ],
   "source": [
    "r2_score(y_true, y_pred)"
   ]
  },
  {
   "cell_type": "code",
   "execution_count": null,
   "id": "74ef89e2-51fd-4dcf-8df9-a2b516f9b302",
   "metadata": {},
   "outputs": [],
   "source": []
  }
 ],
 "metadata": {
  "kernelspec": {
   "display_name": "Python 3 (ipykernel)",
   "language": "python",
   "name": "python3"
  },
  "language_info": {
   "codemirror_mode": {
    "name": "ipython",
    "version": 3
   },
   "file_extension": ".py",
   "mimetype": "text/x-python",
   "name": "python",
   "nbconvert_exporter": "python",
   "pygments_lexer": "ipython3",
   "version": "3.8.11"
  }
 },
 "nbformat": 4,
 "nbformat_minor": 5
}
