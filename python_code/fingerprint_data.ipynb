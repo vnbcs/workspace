{
 "cells": [
  {
   "cell_type": "markdown",
   "id": "7957e1a6-44bd-4bd3-abe6-ae5da4ba1587",
   "metadata": {
    "tags": []
   },
   "source": [
    "## importing data"
   ]
  },
  {
   "cell_type": "code",
   "execution_count": 1,
   "id": "a1276e6d-996e-4b86-9035-844a9f8e4bac",
   "metadata": {},
   "outputs": [],
   "source": [
    "import scipy.io as sio\n",
    "import os\n",
    "import numpy as np\n",
    "import pandas as pd\n",
    "import matplotlib.pyplot as plt\n",
    "import seaborn as sns"
   ]
  },
  {
   "cell_type": "code",
   "execution_count": 2,
   "id": "c3a1a045-523e-43fd-b62c-53d2470d5a8b",
   "metadata": {},
   "outputs": [
    {
     "name": "stdout",
     "output_type": "stream",
     "text": [
      "Pretty printing has been turned OFF\n"
     ]
    }
   ],
   "source": [
    "%pprint"
   ]
  },
  {
   "cell_type": "code",
   "execution_count": 3,
   "id": "3a6d66ed-4313-4f4a-9cf5-3bba7b96d5f6",
   "metadata": {},
   "outputs": [],
   "source": [
    "start_dir = \"../../\"+os.path.relpath(os.path.expanduser(\"~\"))+\"/Volumes/project/Hanson\""
   ]
  },
  {
   "cell_type": "code",
   "execution_count": 4,
   "id": "693fe276-d7f8-4a3c-911c-8ab53158604a",
   "metadata": {},
   "outputs": [],
   "source": [
    "floc = \"/External_MRI_Projects/NKI_Rockland/Neuroimaging/BIDS/derivatives/DWI_mrtrix_preprocessed\""
   ]
  },
  {
   "cell_type": "code",
   "execution_count": 5,
   "id": "b56d7199-544e-475c-9356-45e5f60a9110",
   "metadata": {},
   "outputs": [
    {
     "data": {
      "text/plain": [
       "['Fingerprint_test_connectometry.qa.db.fib.gz.vec0.mat', 'FingerPrintTest.N677.connectometry.qa.db.fib.gz.vec0.mat', 'FingerPrintTest.N677.connectometry.qa.db.fib.gz.vec1.mat']"
      ]
     },
     "execution_count": 5,
     "metadata": {},
     "output_type": "execute_result"
    }
   ],
   "source": [
    "[ x for x in os.listdir(start_dir+floc) if x.endswith(\"mat\") ]"
   ]
  },
  {
   "cell_type": "code",
   "execution_count": 6,
   "id": "85158303-d768-41f3-983a-0fae8fae1d1b",
   "metadata": {},
   "outputs": [],
   "source": [
    "test_fn = '/Fingerprint_test_connectometry.qa.db.fib.gz.vec0.mat'\n",
    "real_fn1 = '/FingerPrintTest.N677.connectometry.qa.db.fib.gz.vec0.mat'\n",
    "real_fn2 = '/FingerPrintTest.N677.connectometry.qa.db.fib.gz.vec1.mat'"
   ]
  },
  {
   "cell_type": "code",
   "execution_count": 7,
   "id": "87d61a99-c21f-4e2c-ae53-9e3fbe5bdef2",
   "metadata": {},
   "outputs": [],
   "source": [
    "# matfile1 = sio.loadmat(start_dir+floc+real_fn1)\n",
    "# matfile2 = sio.loadmat(start_dir+floc+real_fn2)"
   ]
  },
  {
   "cell_type": "code",
   "execution_count": 8,
   "id": "992fa106-7d6a-483f-bb60-d54b887e9ee1",
   "metadata": {},
   "outputs": [],
   "source": [
    "# joblib is the same as pickle but more efficient for stuff w numpy arrays\n",
    "from joblib import dump, load"
   ]
  },
  {
   "cell_type": "code",
   "execution_count": 9,
   "id": "5a895391-a430-435f-808d-3605a70f3357",
   "metadata": {},
   "outputs": [],
   "source": [
    "# dump(matfile1, '../files/mat1.joblib',compress=3) \n",
    "# dump(matfile2, '../files/mat2.joblib',compress=3) "
   ]
  },
  {
   "cell_type": "code",
   "execution_count": 10,
   "id": "1342a046-a537-4474-abf4-8cadcce277c8",
   "metadata": {},
   "outputs": [],
   "source": [
    "matfile1 = load('../files/mat1.joblib') \n",
    "matfile2 = load('../files/mat2.joblib') "
   ]
  },
  {
   "cell_type": "code",
   "execution_count": 11,
   "id": "4430aaea-4eda-47e7-b304-fe8dd39f82f7",
   "metadata": {},
   "outputs": [
    {
     "data": {
      "text/plain": [
       "['subject_names', 'subject0', 'subject1', 'subject2', 'subject3', 'subject4', 'subject5', 'subject6', 'subject7', 'subject8', 'subject9', 'subject10', 'subject11', 'subject12', 'subject13', 'subject14', 'subject15', 'subject16', 'subject17', 'subject18']"
      ]
     },
     "execution_count": 11,
     "metadata": {},
     "output_type": "execute_result"
    }
   ],
   "source": [
    "list(matfile1.keys())[:20]"
   ]
  },
  {
   "cell_type": "code",
   "execution_count": 12,
   "id": "020ef8ea-ba30-413c-b2ae-511a5d8e75b6",
   "metadata": {},
   "outputs": [
    {
     "data": {
      "text/plain": [
       "['subject384', 'subject385', 'subject386', 'subject387', 'subject388', 'subject389', 'subject390', 'subject391', 'subject392', 'subject393', 'subject394', 'subject395', 'subject396', 'subject397', 'subject398', 'subject399', 'dimension', 'voxel_location', 'mni_location', 'fiber_direction']"
      ]
     },
     "execution_count": 12,
     "metadata": {},
     "output_type": "execute_result"
    }
   ],
   "source": [
    "list(matfile1.keys())[-20:]"
   ]
  },
  {
   "cell_type": "code",
   "execution_count": 13,
   "id": "2ea31865-a774-4029-9d05-b239cefc746b",
   "metadata": {},
   "outputs": [
    {
     "data": {
      "text/plain": [
       "array([115, 117,  98, ..., 102,  10,   0], dtype=uint8)"
      ]
     },
     "execution_count": 13,
     "metadata": {},
     "output_type": "execute_result"
    }
   ],
   "source": [
    "# why is this a nested array???\n",
    "matfile1[\"subject_names\"][0]"
   ]
  },
  {
   "cell_type": "code",
   "execution_count": 14,
   "id": "fd0b3f99-3422-4297-a7d6-5e5b63deb85f",
   "metadata": {},
   "outputs": [],
   "source": [
    "# phenotypic data\n",
    "pheno_df = pd.read_csv(\"../files/NKI_IRI_DWI_combined.csv\")"
   ]
  },
  {
   "cell_type": "code",
   "execution_count": 15,
   "id": "eb7b140b-9fdd-4fad-a630-18ba1a7f2a1c",
   "metadata": {},
   "outputs": [
    {
     "data": {
      "text/html": [
       "<div>\n",
       "<style scoped>\n",
       "    .dataframe tbody tr th:only-of-type {\n",
       "        vertical-align: middle;\n",
       "    }\n",
       "\n",
       "    .dataframe tbody tr th {\n",
       "        vertical-align: top;\n",
       "    }\n",
       "\n",
       "    .dataframe thead th {\n",
       "        text-align: right;\n",
       "    }\n",
       "</style>\n",
       "<table border=\"1\" class=\"dataframe\">\n",
       "  <thead>\n",
       "    <tr style=\"text-align: right;\">\n",
       "      <th></th>\n",
       "      <th>Identifiers_alt</th>\n",
       "      <th>age</th>\n",
       "      <th>sex</th>\n",
       "      <th>ipri_29</th>\n",
       "      <th>ipri_30</th>\n",
       "      <th>ipri_31</th>\n",
       "      <th>ipri_32</th>\n",
       "    </tr>\n",
       "  </thead>\n",
       "  <tbody>\n",
       "    <tr>\n",
       "      <th>0</th>\n",
       "      <td>sub-A00023510_ses-BAS1</td>\n",
       "      <td>23</td>\n",
       "      <td>0</td>\n",
       "      <td>17</td>\n",
       "      <td>21</td>\n",
       "      <td>19</td>\n",
       "      <td>17</td>\n",
       "    </tr>\n",
       "    <tr>\n",
       "      <th>1</th>\n",
       "      <td>sub-A00027439_ses-BAS1</td>\n",
       "      <td>15</td>\n",
       "      <td>0</td>\n",
       "      <td>17</td>\n",
       "      <td>11</td>\n",
       "      <td>14</td>\n",
       "      <td>8</td>\n",
       "    </tr>\n",
       "    <tr>\n",
       "      <th>2</th>\n",
       "      <td>sub-A00027443_ses-BAS1</td>\n",
       "      <td>15</td>\n",
       "      <td>0</td>\n",
       "      <td>11</td>\n",
       "      <td>9</td>\n",
       "      <td>16</td>\n",
       "      <td>5</td>\n",
       "    </tr>\n",
       "    <tr>\n",
       "      <th>3</th>\n",
       "      <td>sub-A00027544_ses-BAS1</td>\n",
       "      <td>22</td>\n",
       "      <td>0</td>\n",
       "      <td>22</td>\n",
       "      <td>19</td>\n",
       "      <td>24</td>\n",
       "      <td>16</td>\n",
       "    </tr>\n",
       "    <tr>\n",
       "      <th>4</th>\n",
       "      <td>sub-A00028150_ses-BAS1</td>\n",
       "      <td>44</td>\n",
       "      <td>1</td>\n",
       "      <td>12</td>\n",
       "      <td>18</td>\n",
       "      <td>19</td>\n",
       "      <td>17</td>\n",
       "    </tr>\n",
       "  </tbody>\n",
       "</table>\n",
       "</div>"
      ],
      "text/plain": [
       "          Identifiers_alt  age  sex  ipri_29  ipri_30  ipri_31  ipri_32\n",
       "0  sub-A00023510_ses-BAS1   23    0       17       21       19       17\n",
       "1  sub-A00027439_ses-BAS1   15    0       17       11       14        8\n",
       "2  sub-A00027443_ses-BAS1   15    0       11        9       16        5\n",
       "3  sub-A00027544_ses-BAS1   22    0       22       19       24       16\n",
       "4  sub-A00028150_ses-BAS1   44    1       12       18       19       17"
      ]
     },
     "execution_count": 15,
     "metadata": {},
     "output_type": "execute_result"
    }
   ],
   "source": [
    "pheno_df.head()"
   ]
  },
  {
   "cell_type": "code",
   "execution_count": 16,
   "id": "ff92c41c-4ce6-40b1-b181-b83e336d6937",
   "metadata": {},
   "outputs": [
    {
     "data": {
      "text/html": [
       "<div>\n",
       "<style scoped>\n",
       "    .dataframe tbody tr th:only-of-type {\n",
       "        vertical-align: middle;\n",
       "    }\n",
       "\n",
       "    .dataframe tbody tr th {\n",
       "        vertical-align: top;\n",
       "    }\n",
       "\n",
       "    .dataframe thead th {\n",
       "        text-align: right;\n",
       "    }\n",
       "</style>\n",
       "<table border=\"1\" class=\"dataframe\">\n",
       "  <thead>\n",
       "    <tr style=\"text-align: right;\">\n",
       "      <th></th>\n",
       "      <th>age</th>\n",
       "      <th>sex</th>\n",
       "      <th>ipri_29</th>\n",
       "      <th>ipri_30</th>\n",
       "      <th>ipri_31</th>\n",
       "      <th>ipri_32</th>\n",
       "    </tr>\n",
       "  </thead>\n",
       "  <tbody>\n",
       "    <tr>\n",
       "      <th>count</th>\n",
       "      <td>677.000000</td>\n",
       "      <td>677.000000</td>\n",
       "      <td>677.000000</td>\n",
       "      <td>677.000000</td>\n",
       "      <td>677.000000</td>\n",
       "      <td>677.000000</td>\n",
       "    </tr>\n",
       "    <tr>\n",
       "      <th>mean</th>\n",
       "      <td>32.324963</td>\n",
       "      <td>0.604136</td>\n",
       "      <td>15.877400</td>\n",
       "      <td>14.422452</td>\n",
       "      <td>20.404727</td>\n",
       "      <td>11.707533</td>\n",
       "    </tr>\n",
       "    <tr>\n",
       "      <th>std</th>\n",
       "      <td>13.110167</td>\n",
       "      <td>0.489397</td>\n",
       "      <td>4.216554</td>\n",
       "      <td>6.009014</td>\n",
       "      <td>5.072420</td>\n",
       "      <td>5.204699</td>\n",
       "    </tr>\n",
       "    <tr>\n",
       "      <th>min</th>\n",
       "      <td>13.000000</td>\n",
       "      <td>0.000000</td>\n",
       "      <td>3.000000</td>\n",
       "      <td>0.000000</td>\n",
       "      <td>0.000000</td>\n",
       "      <td>1.000000</td>\n",
       "    </tr>\n",
       "    <tr>\n",
       "      <th>25%</th>\n",
       "      <td>21.000000</td>\n",
       "      <td>0.000000</td>\n",
       "      <td>13.000000</td>\n",
       "      <td>10.000000</td>\n",
       "      <td>17.000000</td>\n",
       "      <td>8.000000</td>\n",
       "    </tr>\n",
       "    <tr>\n",
       "      <th>50%</th>\n",
       "      <td>30.000000</td>\n",
       "      <td>1.000000</td>\n",
       "      <td>16.000000</td>\n",
       "      <td>15.000000</td>\n",
       "      <td>21.000000</td>\n",
       "      <td>12.000000</td>\n",
       "    </tr>\n",
       "    <tr>\n",
       "      <th>75%</th>\n",
       "      <td>45.000000</td>\n",
       "      <td>1.000000</td>\n",
       "      <td>19.000000</td>\n",
       "      <td>19.000000</td>\n",
       "      <td>24.000000</td>\n",
       "      <td>15.000000</td>\n",
       "    </tr>\n",
       "    <tr>\n",
       "      <th>max</th>\n",
       "      <td>54.000000</td>\n",
       "      <td>1.000000</td>\n",
       "      <td>24.000000</td>\n",
       "      <td>28.000000</td>\n",
       "      <td>28.000000</td>\n",
       "      <td>31.000000</td>\n",
       "    </tr>\n",
       "  </tbody>\n",
       "</table>\n",
       "</div>"
      ],
      "text/plain": [
       "              age         sex     ipri_29     ipri_30     ipri_31     ipri_32\n",
       "count  677.000000  677.000000  677.000000  677.000000  677.000000  677.000000\n",
       "mean    32.324963    0.604136   15.877400   14.422452   20.404727   11.707533\n",
       "std     13.110167    0.489397    4.216554    6.009014    5.072420    5.204699\n",
       "min     13.000000    0.000000    3.000000    0.000000    0.000000    1.000000\n",
       "25%     21.000000    0.000000   13.000000   10.000000   17.000000    8.000000\n",
       "50%     30.000000    1.000000   16.000000   15.000000   21.000000   12.000000\n",
       "75%     45.000000    1.000000   19.000000   19.000000   24.000000   15.000000\n",
       "max     54.000000    1.000000   24.000000   28.000000   28.000000   31.000000"
      ]
     },
     "execution_count": 16,
     "metadata": {},
     "output_type": "execute_result"
    }
   ],
   "source": [
    "pheno_df.describe()"
   ]
  },
  {
   "cell_type": "markdown",
   "id": "c2b54d34-2cea-47c2-a599-cc2a7d903a24",
   "metadata": {},
   "source": [
    "## prepping the data"
   ]
  },
  {
   "cell_type": "code",
   "execution_count": 17,
   "id": "e1d1e242-5cd4-4e19-b43d-99ef0663c961",
   "metadata": {},
   "outputs": [],
   "source": [
    "# just the subjects\n",
    "subj1 = [x for x in list(matfile1.keys()) if \"sub\" in x and \"_\" not in x]\n",
    "subj2 = [x for x in list(matfile2.keys()) if \"sub\" in x and \"_\" not in x]"
   ]
  },
  {
   "cell_type": "code",
   "execution_count": 18,
   "id": "75f1db3c-c0cb-4655-b264-bf831cf2dde6",
   "metadata": {},
   "outputs": [
    {
     "data": {
      "text/plain": [
       "400"
      ]
     },
     "execution_count": 18,
     "metadata": {},
     "output_type": "execute_result"
    }
   ],
   "source": [
    "len(subj1)"
   ]
  },
  {
   "cell_type": "code",
   "execution_count": 19,
   "id": "9e5ba20f-26cf-4a82-9426-646fab5e81b0",
   "metadata": {},
   "outputs": [
    {
     "data": {
      "text/plain": [
       "277"
      ]
     },
     "execution_count": 19,
     "metadata": {},
     "output_type": "execute_result"
    }
   ],
   "source": [
    "len(subj2)"
   ]
  },
  {
   "cell_type": "code",
   "execution_count": 20,
   "id": "fad02ba9-399f-4e41-b9cd-fcad24167050",
   "metadata": {},
   "outputs": [],
   "source": [
    "X = []\n",
    "for sub in subj1:\n",
    "    X.append(matfile1[sub][0])\n",
    "for sub in subj2:\n",
    "    X.append(matfile2[sub][0])"
   ]
  },
  {
   "cell_type": "code",
   "execution_count": 21,
   "id": "ea3ada90-cb28-4ac4-a44b-92adf0657ef3",
   "metadata": {},
   "outputs": [
    {
     "data": {
      "text/plain": [
       "array([[0.13154687, 0.14433745, 0.1312975 , ..., 0.03943831, 0.02088308,\n",
       "        0.05409636],\n",
       "       [0.8178366 , 0.74562216, 0.72506034, ..., 0.34529442, 0.41764247,\n",
       "        0.56341   ],\n",
       "       [0.50131667, 0.47282678, 0.5085435 , ..., 0.1921919 , 0.2769494 ,\n",
       "        0.2239489 ],\n",
       "       ...,\n",
       "       [2.193593  , 1.8504024 , 2.1619565 , ..., 0.5081969 , 0.4759148 ,\n",
       "        0.6066462 ],\n",
       "       [0.2378414 , 0.17248623, 0.23666348, ..., 0.8264794 , 0.7652172 ,\n",
       "        0.7216453 ],\n",
       "       [0.32788658, 0.35372517, 0.36588156, ..., 0.14133348, 0.10620189,\n",
       "        0.06241945]], dtype=float32)"
      ]
     },
     "execution_count": 21,
     "metadata": {},
     "output_type": "execute_result"
    }
   ],
   "source": [
    "X = np.array(X)\n",
    "X"
   ]
  },
  {
   "cell_type": "code",
   "execution_count": 22,
   "id": "e9157937-31d3-4e8b-aa27-ae19f1906464",
   "metadata": {},
   "outputs": [],
   "source": [
    "y = np.array(pheno_df.age)"
   ]
  },
  {
   "cell_type": "code",
   "execution_count": 23,
   "id": "1ca27a9d-c617-4492-ace4-c00797ac4cee",
   "metadata": {},
   "outputs": [],
   "source": [
    "# already saved\n",
    "# dump(X, '../files/fingerprintX.joblib',compress=3) \n",
    "# dump(y, '../files/fingerprintY.joblib',compress=3) "
   ]
  },
  {
   "cell_type": "markdown",
   "id": "53cfd72d-cfcd-4a04-8313-6b2a4134f681",
   "metadata": {},
   "source": [
    "## making the data smaller"
   ]
  },
  {
   "cell_type": "code",
   "execution_count": 24,
   "id": "6de56bd9-75f4-4205-a59f-d0a5440e71b1",
   "metadata": {},
   "outputs": [
    {
     "data": {
      "text/plain": [
       "319861"
      ]
     },
     "execution_count": 24,
     "metadata": {},
     "output_type": "execute_result"
    }
   ],
   "source": [
    "len(X[0])"
   ]
  },
  {
   "cell_type": "code",
   "execution_count": 25,
   "id": "9649a76c-ece3-4fae-ad3f-d98a8d362441",
   "metadata": {},
   "outputs": [],
   "source": [
    "N_COMPONENTS = len(X)"
   ]
  },
  {
   "cell_type": "code",
   "execution_count": 26,
   "id": "ed6f9896-d49d-429f-b82d-2fec47a595c4",
   "metadata": {},
   "outputs": [],
   "source": [
    "# PCA is preferable but depending on the shape of the data i might use truncatedSVD\n",
    "from sklearn.decomposition import PCA, TruncatedSVD"
   ]
  },
  {
   "cell_type": "code",
   "execution_count": 27,
   "id": "a7db696f-176f-4311-b036-fbd22aa8077d",
   "metadata": {},
   "outputs": [],
   "source": [
    "pca = PCA(n_components=N_COMPONENTS, random_state=0)\n",
    "X_pca = pca.fit_transform(X)"
   ]
  },
  {
   "cell_type": "code",
   "execution_count": 28,
   "id": "73a212de-07e6-43ff-8c42-b6210c83dafb",
   "metadata": {},
   "outputs": [
    {
     "data": {
      "text/plain": [
       "677"
      ]
     },
     "execution_count": 28,
     "metadata": {},
     "output_type": "execute_result"
    }
   ],
   "source": [
    "# sweet\n",
    "len(X_pca[0])"
   ]
  },
  {
   "cell_type": "code",
   "execution_count": 29,
   "id": "da941ee2-493c-46e4-810b-d587951ff3e1",
   "metadata": {},
   "outputs": [],
   "source": [
    "#dump(X_pca, '../files/fingerprintX_pca.joblib',compress=3) "
   ]
  },
  {
   "cell_type": "markdown",
   "id": "ba851f3e-3fa0-4d60-8833-181eb866c249",
   "metadata": {},
   "source": [
    "## fitting the model(s)"
   ]
  },
  {
   "cell_type": "code",
   "execution_count": 30,
   "id": "2aa4db84-1f44-4202-a008-3bc09ed1d9c4",
   "metadata": {},
   "outputs": [
    {
     "data": {
      "text/plain": [
       "677"
      ]
     },
     "execution_count": 30,
     "metadata": {},
     "output_type": "execute_result"
    }
   ],
   "source": [
    "len(X_pca)"
   ]
  },
  {
   "cell_type": "code",
   "execution_count": 55,
   "id": "5f5d0161-0296-4405-b943-fcb6da14f94d",
   "metadata": {},
   "outputs": [
    {
     "data": {
      "text/plain": [
       "677"
      ]
     },
     "execution_count": 55,
     "metadata": {},
     "output_type": "execute_result"
    }
   ],
   "source": [
    "y = np.array(pheno_df.age)\n",
    "len(y)"
   ]
  },
  {
   "cell_type": "code",
   "execution_count": 58,
   "id": "e4cb45f7-31b7-41ff-86ac-d00dda480e16",
   "metadata": {},
   "outputs": [],
   "source": [
    "X_train, X_test, y_train, y_test = train_test_split(X_pca, y, test_size = 1/3, random_state = 0)"
   ]
  },
  {
   "cell_type": "code",
   "execution_count": 69,
   "id": "8ad454c0-f5f9-4e2b-8d1c-bc8f90bbac35",
   "metadata": {},
   "outputs": [],
   "source": [
    "from sklearn.metrics import r2_score"
   ]
  },
  {
   "cell_type": "code",
   "execution_count": 83,
   "id": "37ecc41f-f9df-4e7f-8ef3-6589190019e6",
   "metadata": {},
   "outputs": [],
   "source": [
    "#all_labels = model.predict(X_pca)"
   ]
  },
  {
   "cell_type": "code",
   "execution_count": 84,
   "id": "20f5a5ca-f015-43fb-8cc2-ea832bea879b",
   "metadata": {},
   "outputs": [],
   "source": [
    "#pheno_df[\"pred_age\"]=all_labels"
   ]
  },
  {
   "cell_type": "code",
   "execution_count": 85,
   "id": "735f66f4-6fd0-4e12-b4ac-e5edd096837a",
   "metadata": {},
   "outputs": [],
   "source": [
    "#pheno_df.head()"
   ]
  },
  {
   "cell_type": "code",
   "execution_count": 86,
   "id": "54e2efa2-a436-49df-a014-f816b1742d49",
   "metadata": {},
   "outputs": [],
   "source": [
    "#sns.relplot(x=\"age\",y=\"pred_age\", data=pheno_df)"
   ]
  },
  {
   "cell_type": "code",
   "execution_count": 87,
   "id": "501b200f-26ba-4d12-8469-15a22b2fb852",
   "metadata": {},
   "outputs": [],
   "source": [
    "from sklearn.metrics import make_scorer, mean_squared_error\n",
    "from sklearn.model_selection import GridSearchCV\n",
    "from sklearn.svm import SVR\n",
    "from sklearn.linear_model import Ridge\n",
    "from sklearn.linear_model import Lasso\n",
    "from sklearn.linear_model import ElasticNet\n",
    "scorer = make_scorer(mean_squared_error, greater_is_better=False)"
   ]
  },
  {
   "cell_type": "code",
   "execution_count": 88,
   "id": "6fe3fb72-6e5c-4db8-95fa-db257d3eedad",
   "metadata": {},
   "outputs": [],
   "source": [
    "all_gs = load('../files/fingerprint_all_gs.joblib')"
   ]
  },
  {
   "cell_type": "code",
   "execution_count": 89,
   "id": "26b39e27-0291-4bca-8aa8-1ec1fe91de8c",
   "metadata": {},
   "outputs": [
    {
     "data": {
      "text/plain": [
       "{'model': ElasticNet(l1_ratio=0.01, random_state=0), 'model__alpha': 1.0, 'model__l1_ratio': 0.01, 'model__random_state': 0, 'model__selection': 'cyclic'}"
      ]
     },
     "execution_count": 89,
     "metadata": {},
     "output_type": "execute_result"
    }
   ],
   "source": [
    "#svr_gs.cv_results_\n",
    "all_gs.best_params_"
   ]
  },
  {
   "cell_type": "code",
   "execution_count": 90,
   "id": "a917f7c0-ed37-48d9-b7bb-77dbfe76406b",
   "metadata": {},
   "outputs": [
    {
     "data": {
      "text/plain": [
       "['__abstractmethods__', '__class__', '__delattr__', '__dict__', '__dir__', '__doc__', '__eq__', '__format__', '__ge__', '__getattribute__', '__getstate__', '__gt__', '__hash__', '__init__', '__init_subclass__', '__le__', '__lt__', '__module__', '__ne__', '__new__', '__reduce__', '__reduce_ex__', '__repr__', '__setattr__', '__setstate__', '__sizeof__', '__str__', '__subclasshook__', '__weakref__', '_abc_impl', '_check_is_fitted', '_check_n_features', '_check_refit_for_multimetric', '_estimator_type', '_format_results', '_get_param_names', '_get_tags', '_more_tags', '_pairwise', '_repr_html_', '_repr_html_inner', '_repr_mimebundle_', '_required_parameters', '_run_search', '_validate_data', 'best_estimator_', 'best_index_', 'best_params_', 'best_score_', 'classes_', 'cv', 'cv_results_', 'decision_function', 'error_score', 'estimator', 'fit', 'get_params', 'inverse_transform', 'multimetric_', 'n_features_in_', 'n_jobs', 'n_splits_', 'param_grid', 'pre_dispatch', 'predict', 'predict_log_proba', 'predict_proba', 'refit', 'refit_time_', 'return_train_score', 'score', 'score_samples', 'scorer_', 'scoring', 'set_params', 'transform', 'verbose']"
      ]
     },
     "execution_count": 90,
     "metadata": {},
     "output_type": "execute_result"
    }
   ],
   "source": [
    "dir(all_gs)"
   ]
  },
  {
   "cell_type": "code",
   "execution_count": 91,
   "id": "704e5dd8-60f6-42db-9e10-46d120542af2",
   "metadata": {},
   "outputs": [
    {
     "data": {
      "text/plain": [
       "make_scorer(mean_squared_error, greater_is_better=False)"
      ]
     },
     "execution_count": 91,
     "metadata": {},
     "output_type": "execute_result"
    }
   ],
   "source": [
    "all_gs.scoring"
   ]
  },
  {
   "cell_type": "code",
   "execution_count": 92,
   "id": "add7d718-c1d4-4b5d-a83f-0f6f9d2be85b",
   "metadata": {},
   "outputs": [],
   "source": [
    "means = all_gs.cv_results_[\"mean_test_score\"]\n",
    "stds = all_gs.cv_results_[\"std_test_score\"]\n",
    "results = sorted(list(zip(means, stds, all_gs.cv_results_[\"params\"])), \n",
    "                 key = lambda x: x[0], reverse=True)"
   ]
  },
  {
   "cell_type": "code",
   "execution_count": 93,
   "id": "106f1170-c90d-415c-99c5-e28ccd542c71",
   "metadata": {
    "tags": []
   },
   "outputs": [
    {
     "name": "stdout",
     "output_type": "stream",
     "text": [
      "-44.969 (+/-15.279) for {'model': ElasticNet(l1_ratio=0.01, random_state=0), 'model__alpha': 1.0, 'model__l1_ratio': 0.01, 'model__random_state': 0, 'model__selection': 'cyclic'}\n",
      "\n",
      "-45.191 (+/-15.276) for {'model': ElasticNet(l1_ratio=0.01, random_state=0), 'model__alpha': 1.0, 'model__l1_ratio': 0.01, 'model__random_state': 0, 'model__selection': 'random'}\n",
      "\n",
      "-47.076 (+/-11.846) for {'model': ElasticNet(l1_ratio=0.01, random_state=0), 'model__alpha': 1.0, 'model__l1_ratio': 0.1, 'model__random_state': 0, 'model__selection': 'cyclic'}\n",
      "\n",
      "-47.161 (+/-11.908) for {'model': ElasticNet(l1_ratio=0.01, random_state=0), 'model__alpha': 1.0, 'model__l1_ratio': 0.1, 'model__random_state': 0, 'model__selection': 'random'}\n",
      "\n",
      "-47.407 (+/-16.307) for {'model': ElasticNet(l1_ratio=0.01, random_state=0), 'model__alpha': 1.0, 'model__l1_ratio': 0.001, 'model__random_state': 0, 'model__selection': 'cyclic'}\n",
      "\n",
      "-47.459 (+/-14.403) for {'model': ElasticNet(l1_ratio=0.01, random_state=0), 'model__alpha': 0.01, 'model__l1_ratio': 0.1, 'model__random_state': 0, 'model__selection': 'cyclic'}\n",
      "\n",
      "-47.603 (+/-16.207) for {'model': ElasticNet(l1_ratio=0.01, random_state=0), 'model__alpha': 1.0, 'model__l1_ratio': 0.001, 'model__random_state': 0, 'model__selection': 'random'}\n",
      "\n",
      "-47.929 (+/-16.415) for {'model': Ridge(), 'model__alpha': 1.0, 'model__random_state': 0, 'model__solver': 'lsqr'}\n",
      "\n",
      "-47.929 (+/-16.410) for {'model': Ridge(), 'model__alpha': 0.0001, 'model__random_state': 0, 'model__solver': 'saga'}\n",
      "\n",
      "-47.929 (+/-16.410) for {'model': Ridge(), 'model__alpha': 1.0, 'model__random_state': 0, 'model__solver': 'saga'}\n",
      "\n"
     ]
    }
   ],
   "source": [
    "for mean, std, params in results[:10]:\n",
    "    print(\"%0.3f (+/-%0.03f) for %r\" % (mean, std * 2, params))\n",
    "    print()"
   ]
  },
  {
   "cell_type": "code",
   "execution_count": 119,
   "id": "e8ede451-2b09-4b3b-a970-fa1e24dbd0df",
   "metadata": {},
   "outputs": [
    {
     "data": {
      "text/plain": [
       "{'model': Ridge(), 'model__alpha': 1.0, 'model__random_state': 0, 'model__solver': 'saga'}"
      ]
     },
     "execution_count": 119,
     "metadata": {},
     "output_type": "execute_result"
    }
   ],
   "source": [
    "results[9][2]"
   ]
  },
  {
   "cell_type": "code",
   "execution_count": 120,
   "id": "44ee6a96-10b2-46d2-9caa-984eb79c83cd",
   "metadata": {},
   "outputs": [],
   "source": [
    "model1 = ElasticNet(l1_ratio=0.01, random_state=0, alpha=1.0, selection='cyclic')\n",
    "model2 = ElasticNet(l1_ratio=0.01, random_state=0, alpha=1.0, selection='random')\n",
    "model3 = ElasticNet(l1_ratio=0.1, random_state=0, alpha=1.0, selection='cyclic')\n",
    "model4 = ElasticNet(l1_ratio=0.1, random_state=0, alpha=1.0, selection='random')\n",
    "model5 = ElasticNet(l1_ratio=0.001, random_state=0, alpha=1.0, selection='cyclic')\n",
    "model6 = ElasticNet(l1_ratio=0.1, random_state=0, alpha=0.01, selection='cyclic')\n",
    "model7 = ElasticNet(l1_ratio=0.001, random_state=0, alpha=1.0, selection='random')\n",
    "model8 = Ridge(alpha=1.0, random_state=0,solver='lsqr')\n",
    "model9 = Ridge(alpha=0.0001, random_state=0,solver='saga')\n",
    "model10 = Ridge(alpha=1.0, random_state=0,solver='saga')"
   ]
  },
  {
   "cell_type": "code",
   "execution_count": 122,
   "id": "d7547579-9c42-43b0-a414-3dd181f5dbbf",
   "metadata": {},
   "outputs": [
    {
     "name": "stderr",
     "output_type": "stream",
     "text": [
      "/Users/evb32/opt/anaconda3/lib/python3.8/site-packages/sklearn/linear_model/_coordinate_descent.py:530: ConvergenceWarning: Objective did not converge. You might want to increase the number of iterations. Duality gap: 26.131092071533203, tolerance: 7.779956817626953\n",
      "  model = cd_fast.enet_coordinate_descent(\n"
     ]
    },
    {
     "data": {
      "text/plain": [
       "Ridge(random_state=0, solver='saga')"
      ]
     },
     "execution_count": 122,
     "metadata": {},
     "output_type": "execute_result"
    }
   ],
   "source": [
    "model1.fit(X_train,y_train)\n",
    "model2.fit(X_train,y_train)\n",
    "model3.fit(X_train,y_train)\n",
    "model4.fit(X_train,y_train)\n",
    "model5.fit(X_train,y_train)\n",
    "model6.fit(X_train,y_train)\n",
    "model7.fit(X_train,y_train)\n",
    "model8.fit(X_train,y_train)\n",
    "model9.fit(X_train,y_train)\n",
    "model10.fit(X_train,y_train)"
   ]
  },
  {
   "cell_type": "code",
   "execution_count": 125,
   "id": "9bca88d4-c62e-45b2-8dd6-e6e1f27cb16e",
   "metadata": {},
   "outputs": [
    {
     "data": {
      "text/plain": [
       "{'alpha': 1.0, 'copy_X': True, 'fit_intercept': True, 'l1_ratio': 0.01, 'max_iter': 1000, 'normalize': False, 'positive': False, 'precompute': False, 'random_state': 0, 'selection': 'cyclic', 'tol': 0.0001, 'warm_start': False}"
      ]
     },
     "execution_count": 125,
     "metadata": {},
     "output_type": "execute_result"
    }
   ],
   "source": [
    "model1.get_params()"
   ]
  },
  {
   "cell_type": "code",
   "execution_count": 126,
   "id": "6cd9cb7c-f228-4983-bc34-f2fc1b4bc1cc",
   "metadata": {},
   "outputs": [
    {
     "name": "stdout",
     "output_type": "stream",
     "text": [
      "{'alpha': 1.0, 'copy_X': True, 'fit_intercept': True, 'l1_ratio': 0.01, 'max_iter': 1000, 'normalize': False, 'positive': False, 'precompute': False, 'random_state': 0, 'selection': 'cyclic', 'tol': 0.0001, 'warm_start': False}\n",
      "0.7915343965610114\n",
      "\n",
      "{'alpha': 1.0, 'copy_X': True, 'fit_intercept': True, 'l1_ratio': 0.01, 'max_iter': 1000, 'normalize': False, 'positive': False, 'precompute': False, 'random_state': 0, 'selection': 'random', 'tol': 0.0001, 'warm_start': False}\n",
      "0.7902410956058957\n",
      "\n",
      "{'alpha': 1.0, 'copy_X': True, 'fit_intercept': True, 'l1_ratio': 0.1, 'max_iter': 1000, 'normalize': False, 'positive': False, 'precompute': False, 'random_state': 0, 'selection': 'cyclic', 'tol': 0.0001, 'warm_start': False}\n",
      "0.7382594450329123\n",
      "\n",
      "{'alpha': 1.0, 'copy_X': True, 'fit_intercept': True, 'l1_ratio': 0.1, 'max_iter': 1000, 'normalize': False, 'positive': False, 'precompute': False, 'random_state': 0, 'selection': 'random', 'tol': 0.0001, 'warm_start': False}\n",
      "0.7369658805949687\n",
      "\n",
      "{'alpha': 1.0, 'copy_X': True, 'fit_intercept': True, 'l1_ratio': 0.001, 'max_iter': 1000, 'normalize': False, 'positive': False, 'precompute': False, 'random_state': 0, 'selection': 'cyclic', 'tol': 0.0001, 'warm_start': False}\n",
      "0.794304973230002\n",
      "\n",
      "{'alpha': 0.01, 'copy_X': True, 'fit_intercept': True, 'l1_ratio': 0.1, 'max_iter': 1000, 'normalize': False, 'positive': False, 'precompute': False, 'random_state': 0, 'selection': 'cyclic', 'tol': 0.0001, 'warm_start': False}\n",
      "0.7831343718968278\n",
      "\n",
      "{'alpha': 1.0, 'copy_X': True, 'fit_intercept': True, 'l1_ratio': 0.001, 'max_iter': 1000, 'normalize': False, 'positive': False, 'precompute': False, 'random_state': 0, 'selection': 'random', 'tol': 0.0001, 'warm_start': False}\n",
      "0.7939055423770787\n",
      "\n",
      "{'alpha': 1.0, 'copy_X': True, 'fit_intercept': True, 'max_iter': None, 'normalize': False, 'random_state': 0, 'solver': 'lsqr', 'tol': 0.001}\n",
      "0.7931964057448841\n",
      "\n",
      "{'alpha': 0.0001, 'copy_X': True, 'fit_intercept': True, 'max_iter': None, 'normalize': False, 'random_state': 0, 'solver': 'saga', 'tol': 0.001}\n",
      "0.7930593270481449\n",
      "\n",
      "{'alpha': 1.0, 'copy_X': True, 'fit_intercept': True, 'max_iter': None, 'normalize': False, 'random_state': 0, 'solver': 'saga', 'tol': 0.001}\n",
      "0.793059027121321\n",
      "\n"
     ]
    }
   ],
   "source": [
    "for x in [model1, model2, model3, model4, model5, model6, model7, model8, model9, model10]:\n",
    "    y_true, y_pred = y_test, x.predict(X_test)\n",
    "    print(x.get_params())\n",
    "    print(r2_score(y_true, y_pred))\n",
    "    print()"
   ]
  },
  {
   "cell_type": "code",
   "execution_count": 59,
   "id": "480788cf-8198-40fd-b101-2fa5f9a1312b",
   "metadata": {},
   "outputs": [],
   "source": [
    "y_true, y_pred = y_test, all_gs.predict(X_test)"
   ]
  },
  {
   "cell_type": "code",
   "execution_count": 71,
   "id": "d3776298-ad36-4efd-8812-f7801b53b17c",
   "metadata": {},
   "outputs": [
    {
     "data": {
      "text/plain": [
       "0.7915343965610114"
      ]
     },
     "execution_count": 71,
     "metadata": {},
     "output_type": "execute_result"
    }
   ],
   "source": [
    "r2_score(y_true, y_pred)"
   ]
  },
  {
   "cell_type": "code",
   "execution_count": null,
   "id": "74ef89e2-51fd-4dcf-8df9-a2b516f9b302",
   "metadata": {},
   "outputs": [],
   "source": []
  }
 ],
 "metadata": {
  "kernelspec": {
   "display_name": "Python 3 (ipykernel)",
   "language": "python",
   "name": "python3"
  },
  "language_info": {
   "codemirror_mode": {
    "name": "ipython",
    "version": 3
   },
   "file_extension": ".py",
   "mimetype": "text/x-python",
   "name": "python",
   "nbconvert_exporter": "python",
   "pygments_lexer": "ipython3",
   "version": "3.8.11"
  }
 },
 "nbformat": 4,
 "nbformat_minor": 5
}
