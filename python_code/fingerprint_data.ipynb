{
 "cells": [
  {
   "cell_type": "code",
   "execution_count": 1,
   "id": "a1276e6d-996e-4b86-9035-844a9f8e4bac",
   "metadata": {},
   "outputs": [],
   "source": [
    "import scipy.io as sio\n",
    "import os\n",
    "import numpy as np\n",
    "import pandas as pd"
   ]
  },
  {
   "cell_type": "code",
   "execution_count": 2,
   "id": "c3a1a045-523e-43fd-b62c-53d2470d5a8b",
   "metadata": {},
   "outputs": [
    {
     "name": "stdout",
     "output_type": "stream",
     "text": [
      "Pretty printing has been turned OFF\n"
     ]
    }
   ],
   "source": [
    "%pprint"
   ]
  },
  {
   "cell_type": "code",
   "execution_count": 3,
   "id": "3a6d66ed-4313-4f4a-9cf5-3bba7b96d5f6",
   "metadata": {},
   "outputs": [],
   "source": [
    "start_dir = \"../../\"+os.path.relpath(os.path.expanduser(\"~\"))+\"/Volumes/project/Hanson\""
   ]
  },
  {
   "cell_type": "code",
   "execution_count": 4,
   "id": "693fe276-d7f8-4a3c-911c-8ab53158604a",
   "metadata": {},
   "outputs": [],
   "source": [
    "floc = \"/External_MRI_Projects/NKI_Rockland/Neuroimaging/BIDS/derivatives/DWI_mrtrix_preprocessed\""
   ]
  },
  {
   "cell_type": "code",
   "execution_count": 5,
   "id": "b56d7199-544e-475c-9356-45e5f60a9110",
   "metadata": {},
   "outputs": [
    {
     "data": {
      "text/plain": [
       "['Fingerprint_test_connectometry.qa.db.fib.gz.vec0.mat']"
      ]
     },
     "execution_count": 5,
     "metadata": {},
     "output_type": "execute_result"
    }
   ],
   "source": [
    "[ x for x in os.listdir(start_dir+floc) if x.endswith(\"mat\") ]"
   ]
  },
  {
   "cell_type": "code",
   "execution_count": 6,
   "id": "85158303-d768-41f3-983a-0fae8fae1d1b",
   "metadata": {},
   "outputs": [],
   "source": [
    "fn = '/Fingerprint_test_connectometry.qa.db.fib.gz.vec0.mat'"
   ]
  },
  {
   "cell_type": "code",
   "execution_count": 7,
   "id": "87d61a99-c21f-4e2c-ae53-9e3fbe5bdef2",
   "metadata": {},
   "outputs": [],
   "source": [
    "matfile = sio.loadmat(start_dir+floc+fn)"
   ]
  },
  {
   "cell_type": "code",
   "execution_count": 8,
   "id": "4430aaea-4eda-47e7-b304-fe8dd39f82f7",
   "metadata": {},
   "outputs": [
    {
     "name": "stdout",
     "output_type": "stream",
     "text": [
      "subject_names 1 [[115 117  98 ... 102  10   0]]\n",
      "\n",
      "subject0 1 [[0.75137806 0.68396753 0.8231277  ... 0.6488811  0.7932174  0.55673665]]\n",
      "\n",
      "subject1 1 [[1.5459005 1.3709456 1.419925  ... 0.6698704 0.582369  0.3911187]]\n",
      "\n",
      "subject2 1 [[0.5813158  0.583832   0.4963769  ... 0.09409051 0.16015111 0.07257959]]\n",
      "\n",
      "subject3 1 [[0.08890446 0.10192741 0.07047681 ... 0.7962096  0.7318471  0.8841679 ]]\n",
      "\n",
      "subject4 1 [[1.2529615  1.3228753  1.3820428  ... 0.5152588  0.16618496 1.040403  ]]\n",
      "\n",
      "subject5 1 [[0.17104177 0.1537092  0.17730778 ... 0.48519975 0.44303164 0.3371651 ]]\n",
      "\n",
      "subject6 1 [[0.0000000e+00 3.4602743e-04 2.8927582e-03 ... 1.0720446e+00\n",
      "  9.9215519e-01 1.0006961e+00]]\n",
      "\n",
      "subject7 1 [[0.03521136 0.02829718 0.03196337 ... 0.49270186 0.67791617 0.63496095]]\n",
      "\n",
      "subject8 1 [[0.13183735 0.13337828 0.1032718  ... 0.92114407 0.9539782  0.8209213 ]]\n",
      "\n",
      "subject9 1 [[0.8786242  0.83137226 0.9373195  ... 0.6538708  0.81125903 0.73028827]]\n",
      "\n",
      "subject10 1 [[1.0367473  1.0008675  0.91804504 ... 0.57267433 0.69588715 0.34990925]]\n",
      "\n",
      "subject11 1 [[0.86539173 0.7595253  0.76758903 ... 0.74159294 0.91889596 0.4303951 ]]\n",
      "\n",
      "subject12 1 [[1.5044683  1.3542987  1.4662786  ... 0.4203111  0.33061954 0.6397019 ]]\n",
      "\n",
      "subject13 1 [[0.9338991  0.8135573  0.8534197  ... 0.87625647 0.7790643  0.72680694]]\n",
      "\n",
      "subject14 1 [[0.4922393  0.3985345  0.4298009  ... 0.82627577 0.80864304 0.75860053]]\n",
      "\n",
      "subject15 1 [[3.5140047  3.3510683  3.279861   ... 0.62871486 0.45535618 0.7905751 ]]\n",
      "\n",
      "subject16 1 [[1.1680962  1.2206242  1.3113917  ... 0.73944527 0.5483708  0.7165127 ]]\n",
      "\n",
      "subject17 1 [[0.90061516 0.8666637  0.86795723 ... 0.47287008 0.31667665 0.32351083]]\n",
      "\n",
      "subject18 1 [[0.29963222 0.23866387 0.26735204 ... 0.8981309  0.8661937  0.86475706]]\n",
      "\n",
      "subject19 1 [[0.6717077  0.6036491  0.56249446 ... 0.9668094  0.83356476 1.0754304 ]]\n",
      "\n",
      "subject20 1 [[0.42658028 0.39857018 0.38063785 ... 0.22313143 0.20304824 0.12515816]]\n",
      "\n",
      "subject21 1 [[0.79905456 0.781012   0.8137734  ... 0.7787001  0.7654938  0.6338453 ]]\n",
      "\n",
      "subject22 1 [[0.7855678  0.6634674  0.76601636 ... 0.2645153  0.26269808 0.63361466]]\n",
      "\n",
      "subject23 1 [[0.14176692 0.12320025 0.10360991 ... 0.26941764 0.2357736  0.24700557]]\n",
      "\n",
      "subject24 1 [[0.5169262  0.47630367 0.59440136 ... 0.8238256  0.6812652  0.6347649 ]]\n",
      "\n",
      "subject25 1 [[2.4071395  2.1848261  2.520043   ... 0.43651038 0.44983056 0.484971  ]]\n",
      "\n",
      "subject26 1 [[0.896501   0.80151385 0.9379297  ... 0.592109   0.5720626  0.5525513 ]]\n",
      "\n",
      "subject27 1 [[0.7291796  0.7240042  0.8872682  ... 0.44334844 0.42121422 0.5011806 ]]\n",
      "\n",
      "subject28 1 [[0.14005506 0.08136515 0.08759932 ... 0.6783982  0.44464204 0.63136476]]\n",
      "\n",
      "subject29 1 [[0.57949406 0.5149838  0.49651182 ... 0.3927559  0.53214955 0.72977453]]\n",
      "\n",
      "dimension 1 [[78 94 68]]\n",
      "\n",
      "voxel_location 1 [[  4093   4093   4093 ... 473661 473661 473662]]\n",
      "\n",
      "mni_location 3 [[0. 0. 0. ... 0. 0. 0.]\n",
      " [0. 0. 0. ... 0. 0. 0.]\n",
      " [0. 0. 0. ... 0. 0. 0.]]\n",
      "\n",
      "fiber_direction 3 [[-0.2852732  -0.2533659  -0.1381966  ... -0.2852732  -0.09677715\n",
      "  -0.2533659 ]\n",
      " [-0.3717481  -0.5133755  -0.42532545 ... -0.3717481  -0.5642542\n",
      "  -0.5133755 ]\n",
      " [ 0.88341534  0.81990933  0.8944272  ...  0.88341534  0.81990933\n",
      "   0.81990933]]\n",
      "\n"
     ]
    }
   ],
   "source": [
    "for x in matfile.keys():\n",
    "    print(x, len(matfile[x]), matfile[x])\n",
    "    print()"
   ]
  },
  {
   "cell_type": "code",
   "execution_count": 27,
   "id": "2ea31865-a774-4029-9d05-b239cefc746b",
   "metadata": {},
   "outputs": [
    {
     "data": {
      "text/plain": [
       "array([115, 117,  98, ..., 102,  10,   0], dtype=uint8)"
      ]
     },
     "execution_count": 27,
     "metadata": {},
     "output_type": "execute_result"
    }
   ],
   "source": [
    "# why is this a nested array???\n",
    "matfile[\"subject_names\"][0]"
   ]
  },
  {
   "cell_type": "code",
   "execution_count": null,
   "id": "fd0b3f99-3422-4297-a7d6-5e5b63deb85f",
   "metadata": {},
   "outputs": [],
   "source": []
  },
  {
   "cell_type": "code",
   "execution_count": null,
   "id": "eb7b140b-9fdd-4fad-a630-18ba1a7f2a1c",
   "metadata": {},
   "outputs": [],
   "source": []
  }
 ],
 "metadata": {
  "kernelspec": {
   "display_name": "Python 3",
   "language": "python",
   "name": "python3"
  },
  "language_info": {
   "codemirror_mode": {
    "name": "ipython",
    "version": 3
   },
   "file_extension": ".py",
   "mimetype": "text/x-python",
   "name": "python",
   "nbconvert_exporter": "python",
   "pygments_lexer": "ipython3",
   "version": "3.8.12"
  }
 },
 "nbformat": 4,
 "nbformat_minor": 5
}
