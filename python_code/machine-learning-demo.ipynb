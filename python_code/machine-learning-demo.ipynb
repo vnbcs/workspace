{
 "cells": [
  {
   "cell_type": "markdown",
   "id": "d43ff8a8-9b26-4a90-b71f-4200cf0ea3f2",
   "metadata": {},
   "source": [
    "# Machine learning with scikit-learn\n",
    "Machine learning (ML) learns patterns and draws inferences from data to either a) predict a value from input or b) classify an input value. This notebook is a general start-up kit for the newbie, with a focus on neuroscience applications. \n",
    "\n",
    "Prereqs: familiarity with numpy and pandas/R dataframe. Familiarity with pickle is also useful. "
   ]
  },
  {
   "cell_type": "code",
   "execution_count": 2,
   "id": "cb7d6d94-9f30-41ac-82c8-4568e358c158",
   "metadata": {},
   "outputs": [],
   "source": [
    "import numpy as np\n",
    "import pandas as pd\n",
    "import os\n",
    "# joblib is like pickle, but faster at compressing numpy arrays\n",
    "from joblib import dump, load\n",
    "# don't import sklearn. you don't need the whole thing, and it is very big. "
   ]
  },
  {
   "cell_type": "markdown",
   "id": "5444ee01-056e-4580-be1c-1f14fb4ba1c3",
   "metadata": {},
   "source": [
    "## Step 1: Data\n",
    "+ **Supervised** ML needs two things: **input** and **output**, often called `X` and `y`. \n",
    "+ **Unsupervised** ML just needs input. Unsupervised learning includes things like neural nets, but it also includes much easier to implement models like K-means clustering. \n",
    "+ I recommend you start out with a supervised learning task.\n",
    "+ Your data needs to be split into **training** data and **test** data. Optionally you may also set aside **validation data**. A good split is 1/3 of your data for test and the remaining 2/3 for training. Some academics may treat test data like it is optional. It is not. \n",
    "\n",
    "### What is your data, and what do you want to do with it?\n",
    "+ You have data. Hopefully at this point it is already in a machine-readable format. \n",
    "+ What is X? What should it look like?\n",
    "    + X is the data \n",
    "+ The main goal of most ML models is either classification or prediction. How do you know which one your y fits into? \n",
    "    + \n"
   ]
  },
  {
   "cell_type": "code",
   "execution_count": null,
   "id": "5e0ea468-640e-4c37-8fef-2e431b68a25f",
   "metadata": {},
   "outputs": [],
   "source": []
  }
 ],
 "metadata": {
  "kernelspec": {
   "display_name": "Python 3",
   "language": "python",
   "name": "python3"
  },
  "language_info": {
   "codemirror_mode": {
    "name": "ipython",
    "version": 3
   },
   "file_extension": ".py",
   "mimetype": "text/x-python",
   "name": "python",
   "nbconvert_exporter": "python",
   "pygments_lexer": "ipython3",
   "version": "3.8.12"
  }
 },
 "nbformat": 4,
 "nbformat_minor": 5
}
