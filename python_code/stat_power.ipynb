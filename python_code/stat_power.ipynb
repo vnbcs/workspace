{
 "cells": [
  {
   "cell_type": "code",
   "execution_count": 1,
   "id": "d5950a0f-f74a-440d-9aba-69f81b287c18",
   "metadata": {},
   "outputs": [],
   "source": [
    "from statsmodels.stats.power"
   ]
  },
  {
   "cell_type": "code",
   "execution_count": null,
   "id": "4aada283-95f7-4ae9-af9b-5d7fdaca19e1",
   "metadata": {},
   "outputs": [],
   "source": []
  }
 ],
 "metadata": {
  "kernelspec": {
   "display_name": "Python 3 (ipykernel)",
   "language": "python",
   "name": "python3"
  },
  "language_info": {
   "codemirror_mode": {
    "name": "ipython",
    "version": 3
   },
   "file_extension": ".py",
   "mimetype": "text/x-python",
   "name": "python",
   "nbconvert_exporter": "python",
   "pygments_lexer": "ipython3",
   "version": "3.8.11"
  }
 },
 "nbformat": 4,
 "nbformat_minor": 5
}
